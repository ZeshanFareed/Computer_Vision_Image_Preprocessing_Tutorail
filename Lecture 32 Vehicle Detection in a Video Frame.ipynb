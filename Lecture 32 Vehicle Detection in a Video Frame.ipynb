{
 "cells": [
  {
   "cell_type": "code",
   "execution_count": 1,
   "id": "4fb4e2bd",
   "metadata": {},
   "outputs": [],
   "source": [
    "import cv2"
   ]
  },
  {
   "cell_type": "code",
   "execution_count": 2,
   "id": "9db2a413",
   "metadata": {},
   "outputs": [],
   "source": [
    "cap = cv2.VideoCapture(\"tarfic2.mp4\")\n",
    "\n",
    "while True:\n",
    "    r, frame = cap.read()\n",
    "    if r == True:\n",
    "        gry = cv2.cvtColor(frame, cv2.COLOR_BGR2GRAY)\n",
    "        car = cv2.CascadeClassifier(\"cars.xml\")\n",
    "        \n",
    "        cars = car.detectMultiScale(gry, 1.3, 3)\n",
    "                                    \n",
    "        for (x,y,w,h) in cars:\n",
    "            cv2.rectangle(frame, (x,y), (x+w, y+h), (0,0,255), 3)\n",
    "        \n",
    "        frame = cv2.resize(frame, (650,500))\n",
    "        cv2.imshow(\"rolex\", frame)\n",
    "        if cv2.waitKey(25) & 0xff == ord(\"p\"):\n",
    "            break\n",
    "    else:\n",
    "        break\n",
    "\n",
    "\n",
    "\n",
    "cap.release()\n",
    "cv2.destroyAllWindows()"
   ]
  },
  {
   "cell_type": "markdown",
   "id": "c45cecac",
   "metadata": {},
   "source": [
    "## Detect Through Images"
   ]
  },
  {
   "cell_type": "code",
   "execution_count": 92,
   "id": "161ccd56",
   "metadata": {},
   "outputs": [],
   "source": [
    "img = cv2.imread(\"cardt.png\")\n",
    "gry = cv2.cvtColor(img, cv2.COLOR_BGR2GRAY)\n",
    "\n",
    "car = cv2.CascadeClassifier(\"cars.xml\")\n",
    "cars = car.detectMultiScale(gry, 1.1, 3)\n",
    "\n",
    "for (x,y,w,h) in cars:\n",
    "        cv2.rectangle(img, (x,y), (x+w, y+h), (0,0,255), 3)\n",
    "\n",
    "img = cv2.resize(img , (600,500))\n",
    "cv2.imshow(\"rolex\", img)\n",
    "cv2.waitKey(0)\n",
    "cv2.destroyAllWindows()"
   ]
  },
  {
   "cell_type": "code",
   "execution_count": null,
   "id": "4b4f7bdd",
   "metadata": {},
   "outputs": [],
   "source": []
  },
  {
   "cell_type": "code",
   "execution_count": null,
   "id": "f64ef8fb",
   "metadata": {},
   "outputs": [],
   "source": []
  }
 ],
 "metadata": {
  "kernelspec": {
   "display_name": "Python 3 (ipykernel)",
   "language": "python",
   "name": "python3"
  },
  "language_info": {
   "codemirror_mode": {
    "name": "ipython",
    "version": 3
   },
   "file_extension": ".py",
   "mimetype": "text/x-python",
   "name": "python",
   "nbconvert_exporter": "python",
   "pygments_lexer": "ipython3",
   "version": "3.11.5"
  },
  "varInspector": {
   "cols": {
    "lenName": 16,
    "lenType": 16,
    "lenVar": 40
   },
   "kernels_config": {
    "python": {
     "delete_cmd_postfix": "",
     "delete_cmd_prefix": "del ",
     "library": "var_list.py",
     "varRefreshCmd": "print(var_dic_list())"
    },
    "r": {
     "delete_cmd_postfix": ") ",
     "delete_cmd_prefix": "rm(",
     "library": "var_list.r",
     "varRefreshCmd": "cat(var_dic_list()) "
    }
   },
   "types_to_exclude": [
    "module",
    "function",
    "builtin_function_or_method",
    "instance",
    "_Feature"
   ],
   "window_display": false
  }
 },
 "nbformat": 4,
 "nbformat_minor": 5
}
