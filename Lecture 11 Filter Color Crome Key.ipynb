{
 "cells": [
  {
   "cell_type": "code",
   "execution_count": 2,
   "id": "9ad76438",
   "metadata": {},
   "outputs": [],
   "source": [
    "import cv2\n",
    "import numpy as np"
   ]
  },
  {
   "cell_type": "code",
   "execution_count": 14,
   "id": "98729bf9",
   "metadata": {},
   "outputs": [],
   "source": [
    "cap = cv2.VideoCapture(0)\n",
    "\n",
    "def rooshan(x):\n",
    "    pass\n",
    "\n",
    "cv2.namedWindow(\"demo\")\n",
    "cv2.createTrackbar(\"lb\", \"demo\", 0, 255, rooshan)\n",
    "cv2.createTrackbar(\"lg\", \"demo\", 0, 255, rooshan)\n",
    "cv2.createTrackbar(\"lr\", \"demo\", 0, 255, rooshan)\n",
    "\n",
    "cv2.createTrackbar(\"ub\", \"demo\", 255, 255, rooshan)\n",
    "cv2.createTrackbar(\"ug\", \"demo\", 255, 255, rooshan)\n",
    "cv2.createTrackbar(\"ur\", \"demo\", 255, 255, rooshan)\n",
    "\n",
    "while cap.isOpened():\n",
    "    r, frame = cap.read()\n",
    "    \n",
    "    if r == True:\n",
    "        img = cv2.resize(frame, (400,350))\n",
    "        hsv_img = cv2.cvtColor(img, cv2.COLOR_BGR2HSV)\n",
    "        \n",
    "        Lb = cv2.getTrackbarPos(\"lb\", \"demo\")\n",
    "        Lg = cv2.getTrackbarPos(\"lg\", \"demo\")\n",
    "        Lr = cv2.getTrackbarPos(\"lr\", \"demo\")\n",
    "        \n",
    "        Ub = cv2.getTrackbarPos(\"ub\", \"demo\")\n",
    "        Ug = cv2.getTrackbarPos(\"ug\", \"demo\")\n",
    "        Ur = cv2.getTrackbarPos(\"ur\", \"demo\")\n",
    "        \n",
    "        lo = np.array([Lb, Lg, Lr])\n",
    "        up = np.array([Ub, Ug, Ur])\n",
    "        \n",
    "        masks = cv2.inRange(hsv_img, lo, up)\n",
    "        \n",
    "        res = cv2.bitwise_and(img, img, mask=masks)\n",
    "        \n",
    "        cv2.imshow(\"res\", res)\n",
    "        cv2.imshow(\"mask\", masks)\n",
    "        cv2.imshow(\"hsv\", hsv_img)\n",
    "        cv2.imshow(\"rooshan\", img)\n",
    "        if cv2.waitKey(1) & 0xff == ord(\"p\"):\n",
    "            break\n",
    "    else:\n",
    "        break\n",
    "\n",
    "        \n",
    "cap.release()\n",
    "cv2.destroyAllWindows()"
   ]
  },
  {
   "cell_type": "code",
   "execution_count": null,
   "id": "05f858e7",
   "metadata": {},
   "outputs": [],
   "source": []
  }
 ],
 "metadata": {
  "kernelspec": {
   "display_name": "Python 3 (ipykernel)",
   "language": "python",
   "name": "python3"
  },
  "language_info": {
   "codemirror_mode": {
    "name": "ipython",
    "version": 3
   },
   "file_extension": ".py",
   "mimetype": "text/x-python",
   "name": "python",
   "nbconvert_exporter": "python",
   "pygments_lexer": "ipython3",
   "version": "3.11.5"
  }
 },
 "nbformat": 4,
 "nbformat_minor": 5
}
