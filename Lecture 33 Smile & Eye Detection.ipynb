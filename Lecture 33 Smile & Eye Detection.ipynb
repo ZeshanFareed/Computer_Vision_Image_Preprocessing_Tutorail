{
 "cells": [
  {
   "cell_type": "code",
   "execution_count": 1,
   "id": "0a9bfcb6",
   "metadata": {},
   "outputs": [],
   "source": [
    "import cv2"
   ]
  },
  {
   "cell_type": "markdown",
   "id": "fa9ef972",
   "metadata": {},
   "source": [
    "## Smile Detection"
   ]
  },
  {
   "cell_type": "code",
   "execution_count": 24,
   "id": "77881754",
   "metadata": {},
   "outputs": [],
   "source": [
    "img = cv2.imread(\"smile.jpg\")\n",
    "img = cv2.resize(img, (500,450))\n",
    "\n",
    "gry = cv2.cvtColor(img, cv2.COLOR_BGR2GRAY)\n",
    "\n",
    "sm = cv2.CascadeClassifier(r\"C:/Python312/Lib/site-packages/cv2/data/haarcascade_smile.xml\")\n",
    "fc = cv2.CascadeClassifier(r\"C:/Python312/Lib/site-packages/cv2/data/haarcascade_frontalface_default.xml\")\n",
    "\n",
    "f = fc.detectMultiScale(gry, 1.3, 3)\n",
    "\n",
    "for x,y,w,h in f:\n",
    "    roi_gry = gry[y:y+h, x:x+w]\n",
    "    roi_img = img[y:y+h, x:x+w]\n",
    "    \n",
    "    s = sm.detectMultiScale(roi_img, 1.5, 5)\n",
    "    \n",
    "    for xs, ys, ws, hs in s:\n",
    "        cv2.rectangle(roi_img, (xs,ys), (xs+ws, ys+hs), (0,255,0), 2)\n",
    "\n",
    "\n",
    "cv2.imshow(\"roi images\", roi_img) \n",
    "cv2.imshow(\"rooshan\", img)\n",
    "cv2.waitKey(0)\n",
    "cv2.destroyAllWindows()"
   ]
  },
  {
   "cell_type": "code",
   "execution_count": null,
   "id": "696ac4e9",
   "metadata": {},
   "outputs": [],
   "source": []
  },
  {
   "cell_type": "code",
   "execution_count": 27,
   "id": "a8b7293e",
   "metadata": {},
   "outputs": [],
   "source": [
    "img = cv2.imread(\"smile.jpg\")\n",
    "img = cv2.resize(img, (500,450))\n",
    "\n",
    "gry = cv2.cvtColor(img, cv2.COLOR_BGR2GRAY)\n",
    "\n",
    "sm = cv2.CascadeClassifier(r\"C:/Python312/Lib/site-packages/cv2/data/haarcascade_eye.xml\")\n",
    "fc = cv2.CascadeClassifier(r\"C:/Python312/Lib/site-packages/cv2/data/haarcascade_frontalface_default.xml\")\n",
    "\n",
    "f = fc.detectMultiScale(gry, 1.3, 3)  #face\n",
    "\n",
    "for x,y,w,h in f:\n",
    "    roi_gry = gry[y:y+h, x:x+w]\n",
    "    roi_img = img[y:y+h, x:x+w]\n",
    "    \n",
    "    s = sm.detectMultiScale(roi_img, 1.5, 5)\n",
    "    \n",
    "    for xs, ys, ws, hs in s:\n",
    "        cv2.rectangle(roi_img, (xs,ys), (xs+ws, ys+hs), (0,255,0), 2)\n",
    "\n",
    "\n",
    "cv2.imshow(\"roi images\", roi_img) \n",
    "cv2.imshow(\"rooshan\", img)\n",
    "cv2.waitKey(0)\n",
    "cv2.destroyAllWindows()"
   ]
  },
  {
   "cell_type": "code",
   "execution_count": null,
   "id": "4853fe43",
   "metadata": {},
   "outputs": [],
   "source": []
  }
 ],
 "metadata": {
  "kernelspec": {
   "display_name": "Python 3 (ipykernel)",
   "language": "python",
   "name": "python3"
  },
  "language_info": {
   "codemirror_mode": {
    "name": "ipython",
    "version": 3
   },
   "file_extension": ".py",
   "mimetype": "text/x-python",
   "name": "python",
   "nbconvert_exporter": "python",
   "pygments_lexer": "ipython3",
   "version": "3.11.5"
  },
  "varInspector": {
   "cols": {
    "lenName": 16,
    "lenType": 16,
    "lenVar": 40
   },
   "kernels_config": {
    "python": {
     "delete_cmd_postfix": "",
     "delete_cmd_prefix": "del ",
     "library": "var_list.py",
     "varRefreshCmd": "print(var_dic_list())"
    },
    "r": {
     "delete_cmd_postfix": ") ",
     "delete_cmd_prefix": "rm(",
     "library": "var_list.r",
     "varRefreshCmd": "cat(var_dic_list()) "
    }
   },
   "types_to_exclude": [
    "module",
    "function",
    "builtin_function_or_method",
    "instance",
    "_Feature"
   ],
   "window_display": false
  }
 },
 "nbformat": 4,
 "nbformat_minor": 5
}
