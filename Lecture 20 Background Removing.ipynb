{
 "cells": [
  {
   "cell_type": "code",
   "execution_count": 1,
   "id": "ba7b9fcf",
   "metadata": {},
   "outputs": [],
   "source": [
    "import cv2"
   ]
  },
  {
   "cell_type": "code",
   "execution_count": 17,
   "id": "ef9a619d",
   "metadata": {},
   "outputs": [],
   "source": [
    "img = cv2.imread(\"chroma.jpg\")\n",
    "img = cv2.resize(img, (520,450))\n",
    "hsv = cv2.cvtColor(img, cv2.COLOR_BGR2HSV)\n",
    "\n",
    "img1 = cv2.imread(\"green.png\")\n",
    "hsv2 = cv2.cvtColor(img1, cv2.COLOR_BGR2HSV)\n",
    "\n",
    "hist = cv2.calcHist([hsv2], [0,1], None, [180,256], [0,180,0,256])\n",
    "mask = cv2.calcBackProject([hsv], [0,1], hist, [0,180,0,256], 1)\n",
    "\n",
    "\n",
    "ker = cv2.getStructuringElement(cv2.MORPH_ELLIPSE, (5,5))\n",
    "mask = cv2.filter2D(mask, -1, ker)\n",
    "\n",
    "_, thr = cv2.threshold(mask, 200, 255, cv2.THRESH_BINARY)\n",
    "\n",
    "mask = cv2.merge((mask, mask, mask))\n",
    "\n",
    "res = cv2.bitwise_or(img, mask)\n",
    "\n",
    "cv2.imshow(\"masked image\", res)\n",
    "cv2.imshow(\"image1\", img)\n",
    "cv2.waitKey(0)\n",
    "cv2.destroyAllWindows()"
   ]
  },
  {
   "cell_type": "code",
   "execution_count": null,
   "id": "4535cce1",
   "metadata": {},
   "outputs": [],
   "source": []
  }
 ],
 "metadata": {
  "kernelspec": {
   "display_name": "Python 3 (ipykernel)",
   "language": "python",
   "name": "python3"
  },
  "language_info": {
   "codemirror_mode": {
    "name": "ipython",
    "version": 3
   },
   "file_extension": ".py",
   "mimetype": "text/x-python",
   "name": "python",
   "nbconvert_exporter": "python",
   "pygments_lexer": "ipython3",
   "version": "3.11.5"
  },
  "varInspector": {
   "cols": {
    "lenName": 16,
    "lenType": 16,
    "lenVar": 40
   },
   "kernels_config": {
    "python": {
     "delete_cmd_postfix": "",
     "delete_cmd_prefix": "del ",
     "library": "var_list.py",
     "varRefreshCmd": "print(var_dic_list())"
    },
    "r": {
     "delete_cmd_postfix": ") ",
     "delete_cmd_prefix": "rm(",
     "library": "var_list.r",
     "varRefreshCmd": "cat(var_dic_list()) "
    }
   },
   "types_to_exclude": [
    "module",
    "function",
    "builtin_function_or_method",
    "instance",
    "_Feature"
   ],
   "window_display": false
  }
 },
 "nbformat": 4,
 "nbformat_minor": 5
}
