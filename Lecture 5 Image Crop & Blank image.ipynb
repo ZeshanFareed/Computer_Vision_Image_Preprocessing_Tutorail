{
 "cells": [
  {
   "cell_type": "markdown",
   "id": "4cad811e",
   "metadata": {},
   "source": [
    "## Image Crop"
   ]
  },
  {
   "cell_type": "code",
   "execution_count": 2,
   "id": "cbc0622d",
   "metadata": {},
   "outputs": [],
   "source": [
    "import cv2"
   ]
  },
  {
   "cell_type": "code",
   "execution_count": 69,
   "id": "ad6883a2",
   "metadata": {},
   "outputs": [
    {
     "name": "stdout",
     "output_type": "stream",
     "text": [
      "(500, 500, 3)\n"
     ]
    }
   ],
   "source": [
    "img = cv2.imread(\"festival.jpg\")\n",
    "img = cv2.resize(img , (500, 500))\n",
    "\n",
    "print(img.shape)\n",
    "\n",
    "crop_img = img[100:140 , 185:305]     #img[y1:y2  x1:x2]\n",
    "\n",
    "cv2.imshow(\"Rooshan\", img)\n",
    "cv2.imshow(\"crop image\", crop_img)\n",
    "cv2.waitKey(0)\n",
    "cv2.destroyAllWindows()"
   ]
  },
  {
   "cell_type": "markdown",
   "id": "1f3390e7",
   "metadata": {},
   "source": [
    "## Blank Image Create"
   ]
  },
  {
   "cell_type": "code",
   "execution_count": 3,
   "id": "9592e561",
   "metadata": {},
   "outputs": [],
   "source": [
    "import cv2\n",
    "import numpy as np"
   ]
  },
  {
   "cell_type": "code",
   "execution_count": 9,
   "id": "6c23067d",
   "metadata": {},
   "outputs": [
    {
     "name": "stdout",
     "output_type": "stream",
     "text": [
      "(960, 960, 3)\n"
     ]
    }
   ],
   "source": [
    "img = cv2.imread(\"zeeshan_fareed.jpg\")\n",
    "print(img.shape)"
   ]
  },
  {
   "cell_type": "code",
   "execution_count": 10,
   "id": "351d608c",
   "metadata": {},
   "outputs": [],
   "source": [
    "## blank/white image\n",
    "\n",
    "new_img = np.ones((500,500), np.uint8) * 255\n",
    "\n",
    "cv2.imshow(\"boy\",new_img)\n",
    "cv2.waitKey(0)\n",
    "cv2.destroyAllWindows()"
   ]
  },
  {
   "cell_type": "code",
   "execution_count": 11,
   "id": "5dc5c178",
   "metadata": {},
   "outputs": [],
   "source": [
    "## black image\n",
    "\n",
    "new_img1 = np.zeros((500,500), np.uint8) * 255\n",
    "\n",
    "cv2.imshow(\"Boy\",new_img1)\n",
    "cv2.waitKey(0)\n",
    "cv2.destroyAllWindows()"
   ]
  },
  {
   "cell_type": "code",
   "execution_count": null,
   "id": "1a6099a7",
   "metadata": {},
   "outputs": [],
   "source": []
  }
 ],
 "metadata": {
  "kernelspec": {
   "display_name": "Python 3 (ipykernel)",
   "language": "python",
   "name": "python3"
  },
  "language_info": {
   "codemirror_mode": {
    "name": "ipython",
    "version": 3
   },
   "file_extension": ".py",
   "mimetype": "text/x-python",
   "name": "python",
   "nbconvert_exporter": "python",
   "pygments_lexer": "ipython3",
   "version": "3.11.5"
  }
 },
 "nbformat": 4,
 "nbformat_minor": 5
}
