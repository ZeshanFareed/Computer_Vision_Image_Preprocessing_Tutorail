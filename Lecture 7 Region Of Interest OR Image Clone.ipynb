{
 "cells": [
  {
   "cell_type": "code",
   "execution_count": 1,
   "id": "40b2fb95",
   "metadata": {},
   "outputs": [],
   "source": [
    "import cv2\n",
    "import numpy as np "
   ]
  },
  {
   "cell_type": "code",
   "execution_count": 56,
   "id": "19cbd989",
   "metadata": {},
   "outputs": [],
   "source": [
    "img = cv2.imread(\"festival.jpg\")\n",
    "\n",
    "crop = img[10:290 , 210:405]  #x2-x1 => 195 then x2 + 195 then write x2\n",
    "\n",
    "img[10:290 , 405:600] = crop  # right\n",
    "\n",
    "\n",
    "img[10:290 , 15:210] = crop  # left x2-x1 => 195 then x1 - 195 then write x1\n",
    "\n",
    "\n",
    "cv2.imshow(\"Rooshan\" , img)\n",
    "cv2.waitKey(0)\n",
    "cv2.destroyAllWindows()"
   ]
  },
  {
   "cell_type": "code",
   "execution_count": null,
   "id": "ee22da20",
   "metadata": {},
   "outputs": [],
   "source": []
  },
  {
   "cell_type": "code",
   "execution_count": null,
   "id": "21c1d82a",
   "metadata": {},
   "outputs": [],
   "source": []
  },
  {
   "cell_type": "code",
   "execution_count": null,
   "id": "c1df5a25",
   "metadata": {},
   "outputs": [],
   "source": []
  }
 ],
 "metadata": {
  "kernelspec": {
   "display_name": "Python 3 (ipykernel)",
   "language": "python",
   "name": "python3"
  },
  "language_info": {
   "codemirror_mode": {
    "name": "ipython",
    "version": 3
   },
   "file_extension": ".py",
   "mimetype": "text/x-python",
   "name": "python",
   "nbconvert_exporter": "python",
   "pygments_lexer": "ipython3",
   "version": "3.11.5"
  }
 },
 "nbformat": 4,
 "nbformat_minor": 5
}
