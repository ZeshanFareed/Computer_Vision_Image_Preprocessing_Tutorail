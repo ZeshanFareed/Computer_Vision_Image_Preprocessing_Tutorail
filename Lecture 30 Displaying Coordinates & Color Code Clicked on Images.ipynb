{
 "cells": [
  {
   "cell_type": "code",
   "execution_count": 1,
   "id": "025980bc",
   "metadata": {},
   "outputs": [],
   "source": [
    "import cv2"
   ]
  },
  {
   "cell_type": "code",
   "execution_count": 13,
   "id": "e15f8955",
   "metadata": {},
   "outputs": [],
   "source": [
    "def click_b(event, x, y, f, p):\n",
    "    if event == cv2.EVENT_LBUTTONDOWN:\n",
    "        s = f\"{x},{y}\"\n",
    "        cv2.putText(img, s, (x,y), cv2.FONT_HERSHEY_PLAIN, 2, (0,0,0))\n",
    "        cv2.imshow(\"images\", img)\n",
    "\n",
    "    elif event == cv2.EVENT_RBUTTONDOWN:\n",
    "        b = img[y,x,0]\n",
    "        g = img[y,x,1]\n",
    "        r = img[y,x,2]\n",
    "        s = f\"{b},{g},{r}\"\n",
    "        cv2.putText(img, s, (x,y), cv2.FONT_HERSHEY_PLAIN, 2, (0,0,255))\n",
    "        cv2.imshow(\"images\", img)\n",
    "        \n",
    "        \n",
    "\n",
    "img = cv2.imread(\"cornor.webp\")\n",
    "\n",
    "cv2.imshow(\"images\", img)\n",
    "\n",
    "cv2.setMouseCallback(\"images\",click_b)\n",
    "\n",
    "cv2.waitKey(0)\n",
    "cv2.destroyAllWindows()"
   ]
  },
  {
   "cell_type": "code",
   "execution_count": null,
   "id": "6aa16a47",
   "metadata": {},
   "outputs": [],
   "source": []
  }
 ],
 "metadata": {
  "kernelspec": {
   "display_name": "Python 3 (ipykernel)",
   "language": "python",
   "name": "python3"
  },
  "language_info": {
   "codemirror_mode": {
    "name": "ipython",
    "version": 3
   },
   "file_extension": ".py",
   "mimetype": "text/x-python",
   "name": "python",
   "nbconvert_exporter": "python",
   "pygments_lexer": "ipython3",
   "version": "3.11.5"
  },
  "varInspector": {
   "cols": {
    "lenName": 16,
    "lenType": 16,
    "lenVar": 40
   },
   "kernels_config": {
    "python": {
     "delete_cmd_postfix": "",
     "delete_cmd_prefix": "del ",
     "library": "var_list.py",
     "varRefreshCmd": "print(var_dic_list())"
    },
    "r": {
     "delete_cmd_postfix": ") ",
     "delete_cmd_prefix": "rm(",
     "library": "var_list.r",
     "varRefreshCmd": "cat(var_dic_list()) "
    }
   },
   "types_to_exclude": [
    "module",
    "function",
    "builtin_function_or_method",
    "instance",
    "_Feature"
   ],
   "window_display": false
  }
 },
 "nbformat": 4,
 "nbformat_minor": 5
}
