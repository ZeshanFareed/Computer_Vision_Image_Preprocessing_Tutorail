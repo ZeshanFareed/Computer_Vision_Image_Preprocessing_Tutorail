{
 "cells": [
  {
   "cell_type": "markdown",
   "id": "b1e4b202",
   "metadata": {},
   "source": [
    "## Morpholigical Operation"
   ]
  },
  {
   "cell_type": "markdown",
   "id": "ff61d20e",
   "metadata": {},
   "source": [
    "## 1-Erosion"
   ]
  },
  {
   "cell_type": "code",
   "execution_count": 1,
   "id": "a5f7ab0a",
   "metadata": {},
   "outputs": [],
   "source": [
    "import cv2\n",
    "import numpy as np"
   ]
  },
  {
   "cell_type": "code",
   "execution_count": 2,
   "id": "eb850d3d",
   "metadata": {},
   "outputs": [],
   "source": [
    "img = cv2.imread(\"j-images.png\")\n",
    "img = cv2.resize(img , (400,400))\n",
    "\n",
    "kernal = np.ones((15,15) , np.int8)\n",
    "\n",
    "erosion = cv2.erode(img, kernal , iterations = 1)\n",
    "\n",
    "cv2.imshow(\"Origional\", img)\n",
    "cv2.imshow(\"Erosion Image\", erosion)\n",
    "cv2.waitKey(0)\n",
    "cv2.destroyAllWindows()"
   ]
  },
  {
   "cell_type": "markdown",
   "id": "5f317a35",
   "metadata": {},
   "source": [
    "## 2-Dilation"
   ]
  },
  {
   "cell_type": "code",
   "execution_count": 10,
   "id": "d76bd316",
   "metadata": {},
   "outputs": [],
   "source": [
    "img = cv2.imread(\"j-images.png\")\n",
    "img = cv2.resize(img , (400,400))\n",
    "\n",
    "kernal = np.ones((15,15) , np.int8)\n",
    "\n",
    "dilation = cv2.dilate(img, kernal , iterations = 1)\n",
    "\n",
    "cv2.imshow(\"Origional\", img)\n",
    "cv2.imshow(\"dilation\", dilation)\n",
    "cv2.waitKey(0)\n",
    "cv2.destroyAllWindows()"
   ]
  },
  {
   "cell_type": "markdown",
   "id": "0f804540",
   "metadata": {},
   "source": [
    "## Opening"
   ]
  },
  {
   "cell_type": "code",
   "execution_count": 18,
   "id": "28e9ec18",
   "metadata": {},
   "outputs": [],
   "source": [
    "img = cv2.imread(\"opening morpho.jpg\")\n",
    "img = cv2.resize(img , (400,400))\n",
    "\n",
    "kernal = np.ones((5,5) , np.int8)\n",
    "\n",
    "op = cv2.morphologyEx(img, cv2.MORPH_OPEN, kernal, iterations = 1)\n",
    "\n",
    "cv2.imshow(\"Origional\", img)\n",
    "cv2.imshow(\"Opening\", op)\n",
    "cv2.waitKey(0)\n",
    "cv2.destroyAllWindows()"
   ]
  },
  {
   "cell_type": "markdown",
   "id": "a9e0a831",
   "metadata": {},
   "source": [
    "## Closing"
   ]
  },
  {
   "cell_type": "code",
   "execution_count": 30,
   "id": "a01a7875",
   "metadata": {},
   "outputs": [],
   "source": [
    "img = cv2.imread(\"closing.png\")\n",
    "img = cv2.resize(img , (400,400))\n",
    "\n",
    "kernal = np.ones((10,10) , np.int8)\n",
    "\n",
    "clse = cv2.morphologyEx(img, cv2.MORPH_CLOSE, kernal, iterations = 1)\n",
    "\n",
    "cv2.imshow(\"Origional\", img)\n",
    "cv2.imshow(\"Closing\", clse)\n",
    "cv2.waitKey(0)\n",
    "cv2.destroyAllWindows()"
   ]
  },
  {
   "cell_type": "markdown",
   "id": "e01bdfb1",
   "metadata": {},
   "source": [
    "## Gradient"
   ]
  },
  {
   "cell_type": "code",
   "execution_count": 3,
   "id": "2abd9765",
   "metadata": {},
   "outputs": [],
   "source": [
    "img = cv2.imread(\"j-images.png\")\n",
    "img = cv2.resize(img , (300,300))\n",
    "\n",
    "kernal = np.ones((10,10) , np.int8)\n",
    "\n",
    "gr = cv2.morphologyEx(img, cv2.MORPH_GRADIENT, kernal, iterations = 1)\n",
    "\n",
    "cv2.imshow(\"Origional\", img)\n",
    "cv2.imshow(\"Gradient\", gr)\n",
    "cv2.waitKey(0)\n",
    "cv2.destroyAllWindows()"
   ]
  },
  {
   "cell_type": "markdown",
   "id": "c9dfb129",
   "metadata": {},
   "source": [
    "## Top Hat"
   ]
  },
  {
   "cell_type": "code",
   "execution_count": 6,
   "id": "53ff338f",
   "metadata": {},
   "outputs": [],
   "source": [
    "img = cv2.imread(\"j-images.png\")\n",
    "img = cv2.resize(img , (300,300))\n",
    "\n",
    "kernal = np.ones((30,30) , np.int8)\n",
    "\n",
    "tp = cv2.morphologyEx(img, cv2.MORPH_TOPHAT, kernal, iterations = 1)\n",
    "\n",
    "cv2.imshow(\"Origional\", img)\n",
    "cv2.imshow(\"TopHat\", tp)\n",
    "cv2.waitKey(0)\n",
    "cv2.destroyAllWindows()"
   ]
  },
  {
   "cell_type": "markdown",
   "id": "e2af06fb",
   "metadata": {},
   "source": [
    "## Black Hat"
   ]
  },
  {
   "cell_type": "code",
   "execution_count": 12,
   "id": "52b995db",
   "metadata": {},
   "outputs": [],
   "source": [
    "img = cv2.imread(\"j-images.png\")\n",
    "img = cv2.resize(img , (300,300))\n",
    "\n",
    "kernal = np.ones((40,40) , np.int8)\n",
    "\n",
    "bt = cv2.morphologyEx(img, cv2.MORPH_BLACKHAT, kernal, iterations = 1)\n",
    "\n",
    "cv2.imshow(\"Origional\", img)\n",
    "cv2.imshow(\"TopHat\", bt)\n",
    "cv2.waitKey(0)\n",
    "cv2.destroyAllWindows()"
   ]
  },
  {
   "cell_type": "code",
   "execution_count": null,
   "id": "c5acbc7a",
   "metadata": {},
   "outputs": [],
   "source": []
  },
  {
   "cell_type": "code",
   "execution_count": null,
   "id": "a15e3f2b",
   "metadata": {},
   "outputs": [],
   "source": []
  },
  {
   "cell_type": "code",
   "execution_count": null,
   "id": "ac68fcae",
   "metadata": {},
   "outputs": [],
   "source": []
  },
  {
   "cell_type": "code",
   "execution_count": null,
   "id": "7a78a765",
   "metadata": {},
   "outputs": [],
   "source": []
  },
  {
   "cell_type": "code",
   "execution_count": null,
   "id": "af5a84f7",
   "metadata": {},
   "outputs": [],
   "source": []
  },
  {
   "cell_type": "code",
   "execution_count": null,
   "id": "0df8a352",
   "metadata": {},
   "outputs": [],
   "source": []
  },
  {
   "cell_type": "code",
   "execution_count": null,
   "id": "da2a746e",
   "metadata": {},
   "outputs": [],
   "source": []
  }
 ],
 "metadata": {
  "kernelspec": {
   "display_name": "Python 3 (ipykernel)",
   "language": "python",
   "name": "python3"
  },
  "language_info": {
   "codemirror_mode": {
    "name": "ipython",
    "version": 3
   },
   "file_extension": ".py",
   "mimetype": "text/x-python",
   "name": "python",
   "nbconvert_exporter": "python",
   "pygments_lexer": "ipython3",
   "version": "3.11.5"
  }
 },
 "nbformat": 4,
 "nbformat_minor": 5
}
