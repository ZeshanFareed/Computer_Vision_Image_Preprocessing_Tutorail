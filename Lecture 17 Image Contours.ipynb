{
 "cells": [
  {
   "cell_type": "code",
   "execution_count": 1,
   "id": "518f70ab",
   "metadata": {},
   "outputs": [],
   "source": [
    "import cv2"
   ]
  },
  {
   "cell_type": "code",
   "execution_count": null,
   "id": "a8fd4e3f",
   "metadata": {},
   "outputs": [],
   "source": [
    "img = cv2.imread(\"crome.jpg\")\n",
    "img1 = cv2.cvtColor(img , cv2.COLOR_BGR2GRAY)\n",
    "\n",
    "r,thr = cv2.threshold(img1, 220, 255, cv2.THRESH_BINARY)\n",
    "c,h = cv2.findContours(thr, cv2.RETR_TREE, cv2.CHAIN_APPROX_SIMPLE)\n",
    "\n",
    "new_img = cv2.drawContours(img, c, -1, (255,0,0), 2)\n",
    "\n",
    "\n",
    "cv2.imshow(\"Thresh\", thr)\n",
    "cv2.imshow(\"image\", img)\n",
    "cv2.imshow(\"Controus\", new_img)\n",
    "cv2.waitKey(0)\n",
    "cv2.destroyAllWindows()"
   ]
  },
  {
   "cell_type": "code",
   "execution_count": null,
   "id": "2a38effc",
   "metadata": {},
   "outputs": [],
   "source": []
  }
 ],
 "metadata": {
  "kernelspec": {
   "display_name": "Python 3 (ipykernel)",
   "language": "python",
   "name": "python3"
  },
  "language_info": {
   "codemirror_mode": {
    "name": "ipython",
    "version": 3
   },
   "file_extension": ".py",
   "mimetype": "text/x-python",
   "name": "python",
   "nbconvert_exporter": "python",
   "pygments_lexer": "ipython3",
   "version": "3.11.5"
  }
 },
 "nbformat": 4,
 "nbformat_minor": 5
}
