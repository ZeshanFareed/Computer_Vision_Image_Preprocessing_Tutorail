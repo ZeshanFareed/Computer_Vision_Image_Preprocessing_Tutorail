{
 "cells": [
  {
   "cell_type": "code",
   "execution_count": 5,
   "id": "81c8c4eb",
   "metadata": {},
   "outputs": [],
   "source": [
    "import cv2"
   ]
  },
  {
   "cell_type": "code",
   "execution_count": 21,
   "id": "86339f0a",
   "metadata": {},
   "outputs": [],
   "source": [
    "org_v = cv2.VideoCapture(\"men.mp4\")\n",
    "sub_m = cv2.createBackgroundSubtractorMOG2()  #mask\n",
    "\n",
    "while True:\n",
    "    r, frame = org_v.read()\n",
    "    if r == True:\n",
    "        frame = cv2.resize(frame, (700,500))\n",
    "        sub_v = sub_m.apply(frame)\n",
    "        cv2.imshow(\"Subtracted Video\", sub_v)\n",
    "        cv2.imshow(\"Video Calling Men\", frame)\n",
    "        if cv2.waitKey(25) & 0xff == ord(\"p\"):\n",
    "            break\n",
    "    else:\n",
    "        break\n",
    "\n",
    "org_v.release()\n",
    "cv2.destroyAllWindows()"
   ]
  },
  {
   "cell_type": "code",
   "execution_count": null,
   "id": "ecfaa0af",
   "metadata": {},
   "outputs": [],
   "source": []
  },
  {
   "cell_type": "markdown",
   "id": "1e203b0b",
   "metadata": {},
   "source": [
    "## Extract Images from Video"
   ]
  },
  {
   "cell_type": "code",
   "execution_count": 22,
   "id": "86ccddd4",
   "metadata": {},
   "outputs": [],
   "source": [
    "import cv2"
   ]
  },
  {
   "cell_type": "code",
   "execution_count": 28,
   "id": "64489b41",
   "metadata": {},
   "outputs": [],
   "source": [
    "cap = cv2.VideoCapture(\"meet.mp4\")\n",
    "c = 0\n",
    "\n",
    "while True:\n",
    "    r, frame = cap.read()\n",
    "    if r == True:\n",
    "        file_name = \"C://Users/PMLS//Documents//ML//OpenCV//extract image from video//Org_img_\" + str(c)+\".png\"\n",
    "        cv2.imwrite(file_name, frame)\n",
    "        \n",
    "        cv2.imshow(\"Video\", frame)\n",
    "        c = c+1\n",
    "        if cv2.waitKey(25) & 0xff == ord(\"p\"):\n",
    "            break\n",
    "    else:\n",
    "        break\n",
    "        \n",
    "cap.release()\n",
    "cv2.destroyAllWindows()"
   ]
  },
  {
   "cell_type": "code",
   "execution_count": null,
   "id": "a52b5aee",
   "metadata": {},
   "outputs": [],
   "source": []
  },
  {
   "cell_type": "markdown",
   "id": "07d711d4",
   "metadata": {},
   "source": [
    "## cvtColor Method"
   ]
  },
  {
   "cell_type": "code",
   "execution_count": 29,
   "id": "99b12a2c",
   "metadata": {},
   "outputs": [],
   "source": [
    "import cv2"
   ]
  },
  {
   "cell_type": "code",
   "execution_count": 40,
   "id": "80ee3509",
   "metadata": {},
   "outputs": [],
   "source": [
    "org = cv2.imread(\"rooshan.jpg\")\n",
    "org = cv2.resize(org, (600,500))\n",
    "\n",
    "new = cv2.cvtColor(org, cv2.COLOR_BGR2YCrCb)\n",
    "\n",
    "cv2.imshow(\"Rooshan\", org)\n",
    "cv2.imshow(\"New Image\", new)\n",
    "cv2.waitKey(0)\n",
    "cv2.destroyAllWindows()"
   ]
  },
  {
   "cell_type": "code",
   "execution_count": null,
   "id": "7e242dfa",
   "metadata": {},
   "outputs": [],
   "source": []
  },
  {
   "cell_type": "code",
   "execution_count": null,
   "id": "66c9d304",
   "metadata": {},
   "outputs": [],
   "source": []
  }
 ],
 "metadata": {
  "kernelspec": {
   "display_name": "Python 3 (ipykernel)",
   "language": "python",
   "name": "python3"
  },
  "language_info": {
   "codemirror_mode": {
    "name": "ipython",
    "version": 3
   },
   "file_extension": ".py",
   "mimetype": "text/x-python",
   "name": "python",
   "nbconvert_exporter": "python",
   "pygments_lexer": "ipython3",
   "version": "3.11.5"
  }
 },
 "nbformat": 4,
 "nbformat_minor": 5
}
