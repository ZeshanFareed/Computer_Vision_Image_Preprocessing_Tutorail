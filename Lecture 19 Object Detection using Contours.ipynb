{
 "cells": [
  {
   "cell_type": "code",
   "execution_count": 1,
   "id": "9ceabd34",
   "metadata": {},
   "outputs": [],
   "source": [
    "import cv2\n",
    "import numpy as np"
   ]
  },
  {
   "cell_type": "code",
   "execution_count": 3,
   "id": "e163772c",
   "metadata": {},
   "outputs": [],
   "source": [
    "def nothing(x):\n",
    "    pass\n",
    "\n",
    "cv2.namedWindow(\"window\")\n",
    "cv2.createTrackbar(\"th\", \"window\", 0, 255, nothing)\n",
    "\n",
    "cv2.createTrackbar(\"lb\", \"window\", 0, 255, nothing)\n",
    "cv2.createTrackbar(\"lg\", \"window\", 0, 255, nothing)\n",
    "cv2.createTrackbar(\"lr\", \"window\", 0, 255, nothing)\n",
    "\n",
    "cv2.createTrackbar(\"hb\", \"window\", 255, 255, nothing)\n",
    "cv2.createTrackbar(\"hg\", \"window\", 255, 255, nothing)\n",
    "cv2.createTrackbar(\"hr\", \"window\", 255, 255, nothing)\n",
    "\n",
    "\n",
    "cap = cv2.VideoCapture(0)\n",
    "\n",
    "while cap.isOpened():\n",
    "    r, frame = cap.read()\n",
    "    if r == True:\n",
    "        \n",
    "        thr = cv2.getTrackbarPos(\"th\", \"window\")\n",
    "        \n",
    "        LB = cv2.getTrackbarPos(\"lb\", \"window\")\n",
    "        LG = cv2.getTrackbarPos(\"lg\", \"window\")\n",
    "        LR = cv2.getTrackbarPos(\"lr\", \"window\")\n",
    "        \n",
    "        \n",
    "        HB = cv2.getTrackbarPos(\"hb\", \"window\")\n",
    "        HG = cv2.getTrackbarPos(\"hg\", \"window\")\n",
    "        HR = cv2.getTrackbarPos(\"hr\", \"window\")\n",
    "        \n",
    "        \n",
    "        lower = np.array([LB, LG, LR])\n",
    "        upper = np.array([HB, HG, HR])\n",
    "        \n",
    "        \n",
    "        frame = cv2.flip(frame, 1)\n",
    "        frame = cv2.resize(frame, (400,400))\n",
    "        hsv = cv2.cvtColor(frame, cv2.COLOR_BGR2HSV)\n",
    "        m = cv2.inRange(hsv, lower, upper)\n",
    "        res = cv2.bitwise_and(frame, frame, mask = m)\n",
    "        fr = cv2.bitwise_not(res)\n",
    "        \n",
    "        _, thresh = cv2.threshold(m, thr, 255, cv2.THRESH_BINARY)\n",
    "        cnt,hr = cv2.findContours(thresh, cv2.RETR_TREE, cv2.CHAIN_APPROX_SIMPLE)\n",
    "        \n",
    "        cv2.drawContours(frame, cnt, -1, (255,0,0), 2)\n",
    "        \n",
    "        \n",
    "        cv2.imshow(\"thr\", thresh)\n",
    "        cv2.imshow(\"Res\", res)\n",
    "        cv2.imshow(\"mask\", m)\n",
    "        cv2.imshow(\"rooshan\", frame)\n",
    "        if cv2.waitKey(25) & 0xff == ord(\"p\"):\n",
    "            break\n",
    "    \n",
    "    else:\n",
    "        break\n",
    "\n",
    "\n",
    "\n",
    "cap.release()\n",
    "cv2.destroyAllWindows()"
   ]
  },
  {
   "cell_type": "code",
   "execution_count": null,
   "id": "4ecfd575",
   "metadata": {},
   "outputs": [],
   "source": []
  }
 ],
 "metadata": {
  "kernelspec": {
   "display_name": "Python 3 (ipykernel)",
   "language": "python",
   "name": "python3"
  },
  "language_info": {
   "codemirror_mode": {
    "name": "ipython",
    "version": 3
   },
   "file_extension": ".py",
   "mimetype": "text/x-python",
   "name": "python",
   "nbconvert_exporter": "python",
   "pygments_lexer": "ipython3",
   "version": "3.11.5"
  },
  "varInspector": {
   "cols": {
    "lenName": 16,
    "lenType": 16,
    "lenVar": 40
   },
   "kernels_config": {
    "python": {
     "delete_cmd_postfix": "",
     "delete_cmd_prefix": "del ",
     "library": "var_list.py",
     "varRefreshCmd": "print(var_dic_list())"
    },
    "r": {
     "delete_cmd_postfix": ") ",
     "delete_cmd_prefix": "rm(",
     "library": "var_list.r",
     "varRefreshCmd": "cat(var_dic_list()) "
    }
   },
   "types_to_exclude": [
    "module",
    "function",
    "builtin_function_or_method",
    "instance",
    "_Feature"
   ],
   "window_display": false
  }
 },
 "nbformat": 4,
 "nbformat_minor": 5
}
