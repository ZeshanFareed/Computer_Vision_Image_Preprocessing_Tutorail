{
 "cells": [
  {
   "cell_type": "code",
   "execution_count": 1,
   "id": "2e1dfabd",
   "metadata": {},
   "outputs": [],
   "source": [
    "import cv2"
   ]
  },
  {
   "cell_type": "markdown",
   "id": "d138e47f",
   "metadata": {},
   "source": [
    "## Flip"
   ]
  },
  {
   "cell_type": "code",
   "execution_count": 8,
   "id": "d4227fca",
   "metadata": {},
   "outputs": [],
   "source": [
    "img = cv2.imread(\"zeeshan_fareed.jpg\")\n",
    "img = cv2.resize(img, (500,470))\n",
    "\n",
    "# img = cv2.flip(img, 1)   #y axis\n",
    "# img = cv2.flip(img, 0)   #x axis\n",
    "img = cv2.flip(img, -1)   #x,y axis\n",
    "\n",
    "cv2.imshow(\"Rooshan\", img)\n",
    "cv2.waitKey(0)\n",
    "cv2.destroyAllWindows()"
   ]
  },
  {
   "cell_type": "markdown",
   "id": "a6b9f0b0",
   "metadata": {},
   "source": [
    "## Rotation"
   ]
  },
  {
   "cell_type": "code",
   "execution_count": 11,
   "id": "7a501a32",
   "metadata": {},
   "outputs": [],
   "source": [
    "img = cv2.imread(\"zeeshan_fareed.jpg\")\n",
    "img = cv2.resize(img, (500,470))\n",
    "\n",
    "# img = cv2.rotate(img, cv2.ROTATE_90_CLOCKWISE)\n",
    "img = cv2.rotate(img, cv2.ROTATE_90_COUNTERCLOCKWISE)\n",
    "\n",
    "cv2.imshow(\"Rooshan\", img)\n",
    "cv2.waitKey(0)\n",
    "cv2.destroyAllWindows()"
   ]
  },
  {
   "cell_type": "markdown",
   "id": "44e64559",
   "metadata": {},
   "source": [
    "## Transpose Rotate only one rotation"
   ]
  },
  {
   "cell_type": "code",
   "execution_count": 12,
   "id": "a338eb46",
   "metadata": {},
   "outputs": [],
   "source": [
    "img = cv2.imread(\"zeeshan_fareed.jpg\")\n",
    "img = cv2.resize(img, (500,470))\n",
    "\n",
    "img = cv2.transpose(img)\n",
    "\n",
    "cv2.imshow(\"Rooshan\", img)\n",
    "cv2.waitKey(0)\n",
    "cv2.destroyAllWindows()"
   ]
  },
  {
   "cell_type": "code",
   "execution_count": null,
   "id": "b1683025",
   "metadata": {},
   "outputs": [],
   "source": []
  }
 ],
 "metadata": {
  "kernelspec": {
   "display_name": "Python 3 (ipykernel)",
   "language": "python",
   "name": "python3"
  },
  "language_info": {
   "codemirror_mode": {
    "name": "ipython",
    "version": 3
   },
   "file_extension": ".py",
   "mimetype": "text/x-python",
   "name": "python",
   "nbconvert_exporter": "python",
   "pygments_lexer": "ipython3",
   "version": "3.11.5"
  }
 },
 "nbformat": 4,
 "nbformat_minor": 5
}
