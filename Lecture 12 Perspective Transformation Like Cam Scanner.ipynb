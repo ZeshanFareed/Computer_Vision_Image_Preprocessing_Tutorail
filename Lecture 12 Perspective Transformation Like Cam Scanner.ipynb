{
 "cells": [
  {
   "cell_type": "code",
   "execution_count": 73,
   "id": "02fcc7e2",
   "metadata": {},
   "outputs": [],
   "source": [
    "import cv2\n",
    "import numpy as np"
   ]
  },
  {
   "cell_type": "code",
   "execution_count": 99,
   "id": "71790bbb",
   "metadata": {},
   "outputs": [],
   "source": [
    "img = cv2.imread(\"Zee.jpg\")\n",
    "\n",
    "cv2.circle(img, (152,100), 4, (0,0,255), -1)\n",
    "cv2.circle(img, (204,452), 4, (0,0,255), -1)\n",
    "cv2.circle(img, (411,399), 4, (0,0,255), -1)\n",
    "cv2.circle(img, (358,46), 4, (0,0,255), -1)\n",
    "\n",
    "# print(img.shape)\n",
    "\n",
    "cv2.imshow(\"Selected Points\", img)\n",
    "cv2.waitKey(0)\n",
    "cv2.destroyAllWindows()"
   ]
  },
  {
   "cell_type": "code",
   "execution_count": 100,
   "id": "96611b8f",
   "metadata": {},
   "outputs": [],
   "source": [
    "img = cv2.imread(\"Zee.jpg\")\n",
    "\n",
    "w,h = (550 , 500)\n",
    "\n",
    "src_img = np.float32([[152,100],[204,452],[411,399],[358,46]])\n",
    "dst_img = np.float32([[0,0],[w,0],[0,h],[w,h]])\n",
    "\n",
    "m = cv2.getPerspectiveTransform(src_img, dst_img)\n",
    "\n",
    "new_img = cv2.warpPerspective(img, m, (w,h))\n",
    "\n",
    "\n",
    "cv2.imshow(\"Original Image\", img)\n",
    "cv2.imshow(\"Transformed Image\", new_img)\n",
    "cv2.waitKey(0)\n",
    "cv2.destroyAllWindows()"
   ]
  },
  {
   "cell_type": "code",
   "execution_count": null,
   "id": "43b8cc1a",
   "metadata": {},
   "outputs": [],
   "source": []
  }
 ],
 "metadata": {
  "kernelspec": {
   "display_name": "Python 3 (ipykernel)",
   "language": "python",
   "name": "python3"
  },
  "language_info": {
   "codemirror_mode": {
    "name": "ipython",
    "version": 3
   },
   "file_extension": ".py",
   "mimetype": "text/x-python",
   "name": "python",
   "nbconvert_exporter": "python",
   "pygments_lexer": "ipython3",
   "version": "3.11.5"
  }
 },
 "nbformat": 4,
 "nbformat_minor": 5
}
