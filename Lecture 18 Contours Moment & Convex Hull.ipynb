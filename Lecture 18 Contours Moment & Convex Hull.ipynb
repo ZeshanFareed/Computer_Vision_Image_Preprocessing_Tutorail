{
 "cells": [
  {
   "cell_type": "code",
   "execution_count": 1,
   "id": "ba9844d5",
   "metadata": {},
   "outputs": [],
   "source": [
    "import cv2"
   ]
  },
  {
   "cell_type": "code",
   "execution_count": 25,
   "id": "10f72f2c",
   "metadata": {},
   "outputs": [
    {
     "name": "stdout",
     "output_type": "stream",
     "text": [
      "[273951.0, 15980.0, 19825.0, 5380.0, 17072.5, 6154.0, 8983.5]\n"
     ]
    }
   ],
   "source": [
    "img = cv2.imread(\"contours.png\")\n",
    "img = cv2.resize(img , (550,500))\n",
    "gray = cv2.cvtColor(img , cv2.COLOR_BGR2GRAY)\n",
    "\n",
    "r,thr = cv2.threshold(gray, 200, 255, cv2.THRESH_BINARY)\n",
    "cnt,h = cv2.findContours(thr, cv2.RETR_TREE, cv2.CHAIN_APPROX_SIMPLE)\n",
    "\n",
    "ar = []\n",
    "## find mass of momentum\n",
    "for c in cnt:\n",
    "    m = cv2.moments(c)\n",
    "    x = int(m[\"m10\"]/m[\"m00\"])\n",
    "    y = int(m[\"m01\"]/m[\"m00\"])\n",
    "    new_img = cv2.drawContours(img, cnt, -1, (0,0,255), 2)\n",
    "    cv2.circle(img, (x,y), 5, (255,0,0), -1)\n",
    "    a = cv2.contourArea(c)  # find area\n",
    "    ar.append(a)\n",
    "    \n",
    "    ep = 0.01 * cv2.arcLength(c, True)    #convex hel main part detect\n",
    "    d = cv2.approxPolyDP(c, ep, True)\n",
    "    hul = cv2.convexHull(d)\n",
    "    x,y,w,h = cv2.boundingRect(hul)\n",
    "    cv2.rectangle(img, (x,y), (x+w, y+h), (0,255,0), 5)\n",
    "    \n",
    "print(ar)\n",
    "cv2.imshow(\"Thresh\", thr)\n",
    "cv2.imshow(\"Controus\", new_img)\n",
    "cv2.waitKey(0)\n",
    "cv2.destroyAllWindows()"
   ]
  },
  {
   "cell_type": "code",
   "execution_count": null,
   "id": "8d30a25f",
   "metadata": {},
   "outputs": [],
   "source": []
  }
 ],
 "metadata": {
  "kernelspec": {
   "display_name": "Python 3 (ipykernel)",
   "language": "python",
   "name": "python3"
  },
  "language_info": {
   "codemirror_mode": {
    "name": "ipython",
    "version": 3
   },
   "file_extension": ".py",
   "mimetype": "text/x-python",
   "name": "python",
   "nbconvert_exporter": "python",
   "pygments_lexer": "ipython3",
   "version": "3.11.5"
  }
 },
 "nbformat": 4,
 "nbformat_minor": 5
}
