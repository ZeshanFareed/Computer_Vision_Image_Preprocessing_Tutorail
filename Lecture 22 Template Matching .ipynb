{
 "cells": [
  {
   "cell_type": "code",
   "execution_count": 1,
   "id": "bf992b37",
   "metadata": {},
   "outputs": [],
   "source": [
    "import cv2\n",
    "import numpy as np"
   ]
  },
  {
   "cell_type": "code",
   "execution_count": 2,
   "id": "d3b47798",
   "metadata": {},
   "outputs": [],
   "source": [
    "img = cv2.imread(\"group.jpg\")\n",
    "gry = cv2.cvtColor(img, cv2.COLOR_BGR2GRAY)\n",
    "\n",
    "\n",
    "tmp = cv2.imread(\"single.png\")\n",
    "gry1 = cv2.cvtColor(tmp, cv2.COLOR_BGR2GRAY)\n",
    "\n",
    "w,h = gry1.shape[::-1]\n",
    "\n",
    "res = cv2.matchTemplate(gry, gry1, cv2.TM_CCOEFF_NORMED)\n",
    "\n",
    "thr = 0.95\n",
    "\n",
    "l = np.where(res>=thr)\n",
    "\n",
    "for i in zip(*l[::-1]):\n",
    "    cv2.rectangle(img, i, (i[0]+w, i[1]+h),(0,255,0),2)\n",
    "\n",
    "img = cv2.resize(img, (550,500))\n",
    "\n",
    "\n",
    "cv2.imshow(\"Group img\", img)\n",
    "cv2.imshow(\"Single img\", tmp)\n",
    "cv2.waitKey(0)\n",
    "cv2.destroyAllWindows()"
   ]
  },
  {
   "cell_type": "code",
   "execution_count": null,
   "id": "fd50c38c",
   "metadata": {},
   "outputs": [],
   "source": []
  },
  {
   "cell_type": "code",
   "execution_count": null,
   "id": "ae6df129",
   "metadata": {},
   "outputs": [],
   "source": []
  },
  {
   "cell_type": "code",
   "execution_count": null,
   "id": "181c6372",
   "metadata": {},
   "outputs": [],
   "source": []
  }
 ],
 "metadata": {
  "kernelspec": {
   "display_name": "Python 3 (ipykernel)",
   "language": "python",
   "name": "python3"
  },
  "language_info": {
   "codemirror_mode": {
    "name": "ipython",
    "version": 3
   },
   "file_extension": ".py",
   "mimetype": "text/x-python",
   "name": "python",
   "nbconvert_exporter": "python",
   "pygments_lexer": "ipython3",
   "version": "3.11.5"
  },
  "varInspector": {
   "cols": {
    "lenName": 16,
    "lenType": 16,
    "lenVar": 40
   },
   "kernels_config": {
    "python": {
     "delete_cmd_postfix": "",
     "delete_cmd_prefix": "del ",
     "library": "var_list.py",
     "varRefreshCmd": "print(var_dic_list())"
    },
    "r": {
     "delete_cmd_postfix": ") ",
     "delete_cmd_prefix": "rm(",
     "library": "var_list.r",
     "varRefreshCmd": "cat(var_dic_list()) "
    }
   },
   "types_to_exclude": [
    "module",
    "function",
    "builtin_function_or_method",
    "instance",
    "_Feature"
   ],
   "window_display": false
  }
 },
 "nbformat": 4,
 "nbformat_minor": 5
}
