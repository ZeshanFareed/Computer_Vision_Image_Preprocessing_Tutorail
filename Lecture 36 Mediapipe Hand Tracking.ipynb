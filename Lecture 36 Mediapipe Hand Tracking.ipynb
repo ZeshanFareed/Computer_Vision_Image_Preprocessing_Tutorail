{
 "cells": [
  {
   "cell_type": "code",
   "execution_count": 1,
   "id": "64318c84",
   "metadata": {},
   "outputs": [],
   "source": [
    "import cv2\n",
    "import mediapipe as mp"
   ]
  },
  {
   "cell_type": "code",
   "execution_count": 8,
   "id": "a6a537e4",
   "metadata": {},
   "outputs": [],
   "source": [
    "map_drawing = mp.solutions.drawing_utils\n",
    "map_drawing_styles = mp.solutions.drawing_styles\n",
    "map_hand = mp.solutions.hands\n",
    "\n",
    "\n",
    "cap = cv2.VideoCapture(0)\n",
    "p = map_hand.Hands(model_complexity=0, min_detection_confidence=0.5, min_tracking_confidence=0.5)\n",
    "\n",
    "while cap.isOpened():\n",
    "    r, frame = cap.read()\n",
    "    \n",
    "    if r == True:\n",
    "        frame = cv2.flip(frame, 1)\n",
    "        \n",
    "        img = cv2.cvtColor(frame, cv2.COLOR_BGR2RGB)\n",
    "    \n",
    "        result = p.process(img)\n",
    "    \n",
    "        frame = cv2.cvtColor(img, cv2.COLOR_RGB2BGR)\n",
    "        \n",
    "        if result.multi_hand_landmarks:\n",
    "            for landmarks in result.multi_hand_landmarks:\n",
    "                map_drawing.draw_landmarks(frame,\n",
    "                                          landmarks,\n",
    "                                          map_hand.HAND_CONNECTIONS)\n",
    "                \n",
    "    \n",
    "        cv2.imshow(\"rolex\", frame)\n",
    "        if cv2.waitKey(25) & 0xff == ord(\"p\"):\n",
    "            break\n",
    "    else:\n",
    "        break\n",
    "        \n",
    "\n",
    "\n",
    "cap.release()\n",
    "cv2.destroyAllWindows()"
   ]
  },
  {
   "cell_type": "code",
   "execution_count": null,
   "id": "13c0588c",
   "metadata": {},
   "outputs": [],
   "source": []
  }
 ],
 "metadata": {
  "kernelspec": {
   "display_name": "Python 3 (ipykernel)",
   "language": "python",
   "name": "python3"
  },
  "language_info": {
   "codemirror_mode": {
    "name": "ipython",
    "version": 3
   },
   "file_extension": ".py",
   "mimetype": "text/x-python",
   "name": "python",
   "nbconvert_exporter": "python",
   "pygments_lexer": "ipython3",
   "version": "3.11.5"
  },
  "varInspector": {
   "cols": {
    "lenName": 16,
    "lenType": 16,
    "lenVar": 40
   },
   "kernels_config": {
    "python": {
     "delete_cmd_postfix": "",
     "delete_cmd_prefix": "del ",
     "library": "var_list.py",
     "varRefreshCmd": "print(var_dic_list())"
    },
    "r": {
     "delete_cmd_postfix": ") ",
     "delete_cmd_prefix": "rm(",
     "library": "var_list.r",
     "varRefreshCmd": "cat(var_dic_list()) "
    }
   },
   "types_to_exclude": [
    "module",
    "function",
    "builtin_function_or_method",
    "instance",
    "_Feature"
   ],
   "window_display": false
  }
 },
 "nbformat": 4,
 "nbformat_minor": 5
}
