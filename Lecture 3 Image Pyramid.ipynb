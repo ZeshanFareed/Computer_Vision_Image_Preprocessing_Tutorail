{
 "cells": [
  {
   "cell_type": "markdown",
   "id": "34344540",
   "metadata": {},
   "source": [
    "## Big to Small Image"
   ]
  },
  {
   "cell_type": "code",
   "execution_count": null,
   "id": "fc9ab952",
   "metadata": {},
   "outputs": [],
   "source": [
    "import cv2\n",
    "import numpy as np"
   ]
  },
  {
   "cell_type": "code",
   "execution_count": 10,
   "id": "31b63390",
   "metadata": {},
   "outputs": [
    {
     "name": "stdout",
     "output_type": "stream",
     "text": [
      "Origional :  (960, 960, 3)\n",
      "New Image :  (480, 480, 3)\n",
      "New Image :  (240, 240, 3)\n",
      "New Image :  (120, 120, 3)\n"
     ]
    }
   ],
   "source": [
    "img = cv2.imread(\"zeeshan_fareed.jpg\")\n",
    "print(\"Origional : \" , img.shape)\n",
    "\n",
    "new = cv2.pyrDown(img)\n",
    "print(\"New Image : \" , new.shape)\n",
    "\n",
    "new1 = cv2.pyrDown(new)\n",
    "print(\"New Image : \" , new1.shape)\n",
    "\n",
    "new2 = cv2.pyrDown(new1)\n",
    "print(\"New Image : \" , new2.shape)\n",
    "\n",
    "cv2.imshow(\"Origional\", img)\n",
    "cv2.imshow(\"New Image\", new)\n",
    "cv2.imshow(\"New1 Image\", new1)\n",
    "cv2.imshow(\"New2 Image\", new2)\n",
    "\n",
    "cv2.waitKey(0)\n",
    "cv2.destroyAllWindows()"
   ]
  },
  {
   "cell_type": "markdown",
   "id": "060f24a7",
   "metadata": {},
   "source": [
    "## Small to big Image"
   ]
  },
  {
   "cell_type": "code",
   "execution_count": 12,
   "id": "4a2699f8",
   "metadata": {},
   "outputs": [
    {
     "name": "stdout",
     "output_type": "stream",
     "text": [
      "Origional :  (960, 960, 3)\n",
      "New Image :  (480, 480, 3)\n",
      "New Image :  (240, 240, 3)\n",
      "New Image :  (480, 480, 3)\n"
     ]
    }
   ],
   "source": [
    "img = cv2.imread(\"zeeshan_fareed.jpg\")\n",
    "print(\"Origional : \" , img.shape)\n",
    "\n",
    "new = cv2.pyrDown(img)\n",
    "print(\"New Image : \" , new.shape)\n",
    "\n",
    "new1 = cv2.pyrDown(new)\n",
    "print(\"New Image : \" , new1.shape)\n",
    "\n",
    "# new2 = cv2.pyrDown(new1)\n",
    "# print(\"New Image : \" , new2.shape)\n",
    "\n",
    "new_big = cv2.pyrUp(new1)\n",
    "print(\"New Image : \" , new_big.shape)\n",
    "\n",
    "# cv2.imshow(\"Origional\", img)\n",
    "# cv2.imshow(\"New Image\", new)\n",
    "cv2.imshow(\"New1 Image\", new1)\n",
    "# cv2.imshow(\"New2 Image\", new2)\n",
    "cv2.imshow(\"New big Image\", new_big)\n",
    "\n",
    "\n",
    "cv2.waitKey(0)\n",
    "cv2.destroyAllWindows()"
   ]
  },
  {
   "cell_type": "markdown",
   "id": "66cb27ab",
   "metadata": {},
   "source": [
    "## Image Translation(crop)"
   ]
  },
  {
   "cell_type": "code",
   "execution_count": 15,
   "id": "fafcb7b0",
   "metadata": {},
   "outputs": [],
   "source": [
    "img = cv2.imread(\"zeeshan_fareed.jpg\")\n",
    "img = cv2.resize(img, (400,400))\n",
    "\n",
    "metrics = np.float32([[1,0,100],[0,1,50]])\n",
    "\n",
    "new = cv2.warpAffine(img, metrics , (400,400))\n",
    "\n",
    "cv2.imshow(\"Origional\", img)\n",
    "cv2.imshow(\"Metrics\", metrics)\n",
    "cv2.imshow(\"New Image\", new)\n",
    "cv2.waitKey(0)\n",
    "cv2.destroyAllWindows()"
   ]
  },
  {
   "cell_type": "code",
   "execution_count": null,
   "id": "94693f69",
   "metadata": {},
   "outputs": [],
   "source": []
  },
  {
   "cell_type": "code",
   "execution_count": null,
   "id": "ed4897a3",
   "metadata": {},
   "outputs": [],
   "source": []
  },
  {
   "cell_type": "code",
   "execution_count": null,
   "id": "3b880983",
   "metadata": {},
   "outputs": [],
   "source": []
  },
  {
   "cell_type": "code",
   "execution_count": null,
   "id": "3ca4530a",
   "metadata": {},
   "outputs": [],
   "source": []
  },
  {
   "cell_type": "code",
   "execution_count": null,
   "id": "2455f3a7",
   "metadata": {},
   "outputs": [],
   "source": []
  }
 ],
 "metadata": {
  "kernelspec": {
   "display_name": "Python 3 (ipykernel)",
   "language": "python",
   "name": "python3"
  },
  "language_info": {
   "codemirror_mode": {
    "name": "ipython",
    "version": 3
   },
   "file_extension": ".py",
   "mimetype": "text/x-python",
   "name": "python",
   "nbconvert_exporter": "python",
   "pygments_lexer": "ipython3",
   "version": "3.11.5"
  }
 },
 "nbformat": 4,
 "nbformat_minor": 5
}
