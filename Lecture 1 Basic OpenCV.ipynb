{
 "cells": [
  {
   "cell_type": "markdown",
   "id": "23e2d7f9",
   "metadata": {},
   "source": [
    "## Lecture-1 Image show & read"
   ]
  },
  {
   "cell_type": "code",
   "execution_count": 2,
   "id": "cc43482b",
   "metadata": {},
   "outputs": [],
   "source": [
    "import cv2"
   ]
  },
  {
   "cell_type": "code",
   "execution_count": 3,
   "id": "9b00302f",
   "metadata": {},
   "outputs": [],
   "source": [
    "img = cv2.imread('zeeshan_fareed.jpg')   # image read\n",
    "\n",
    "cv2.imshow(\"Handsome Boy\" , img)  # image show\n",
    "\n",
    "cv2.waitKey(0)    # image frame ko wait time as milisecond and 0 pass keyboard any key press\n",
    "\n",
    "cv2.destroyAllWindows()      # all window close \n",
    "\n",
    "#cv2.destroWindow()          # only one window close"
   ]
  },
  {
   "cell_type": "code",
   "execution_count": null,
   "id": "adb9bc0d",
   "metadata": {},
   "outputs": [],
   "source": []
  },
  {
   "cell_type": "markdown",
   "id": "43ba69af",
   "metadata": {},
   "source": [
    "## Multiple window"
   ]
  },
  {
   "cell_type": "code",
   "execution_count": 4,
   "id": "daaf684c",
   "metadata": {},
   "outputs": [],
   "source": [
    "img = cv2.imread('zeeshan_fareed.jpg')   # image read\n",
    "\n",
    "cv2.imshow(\"Handsome Boy\" , img)  # image show\n",
    "cv2.imshow(\"Stylish Boy\" , img)  # image show\n",
    "\n",
    "cv2.waitKey(0)    # image frame ko wait time as milisecond and 0 pass keyboard any key press\n",
    "\n",
    "cv2.destroyAllWindows()      # all window close \n",
    "\n",
    "# cv2.destroWindow(\"Stylish Boy\")          # only one window close"
   ]
  },
  {
   "cell_type": "code",
   "execution_count": null,
   "id": "52bdad4f",
   "metadata": {},
   "outputs": [],
   "source": []
  },
  {
   "cell_type": "markdown",
   "id": "da357db2",
   "metadata": {},
   "source": [
    "## Resize Image"
   ]
  },
  {
   "cell_type": "code",
   "execution_count": 2,
   "id": "c33680d4",
   "metadata": {},
   "outputs": [],
   "source": [
    "import cv2\n",
    "import numpy as np"
   ]
  },
  {
   "cell_type": "code",
   "execution_count": 7,
   "id": "dc41f816",
   "metadata": {},
   "outputs": [],
   "source": [
    "img = cv2.imread('zeeshan_fareed.jpg')\n",
    "\n",
    "resiz_img = cv2.resize(img , (500 , 500))\n",
    "\n",
    "cv2.imshow(\"Zeeshan Fareed\" , resiz_img)\n",
    "\n",
    "cv2.waitKey(0)\n",
    "\n",
    "cv2.destroyAllWindows()"
   ]
  },
  {
   "cell_type": "markdown",
   "id": "4a50ac73",
   "metadata": {},
   "source": [
    "## Multiple Images into one Frame"
   ]
  },
  {
   "cell_type": "code",
   "execution_count": 11,
   "id": "b9e7f4ee",
   "metadata": {},
   "outputs": [
    {
     "data": {
      "text/plain": [
       "array([[1, 2, 1, 2, 1, 2, 1, 2],\n",
       "       [1, 2, 1, 2, 1, 2, 1, 2]])"
      ]
     },
     "execution_count": 11,
     "metadata": {},
     "output_type": "execute_result"
    }
   ],
   "source": [
    "v = np.array([[1,2,1,2] , [1,2,1,2]])\n",
    "np.hstack((v,v))"
   ]
  },
  {
   "cell_type": "code",
   "execution_count": 10,
   "id": "de03d3e8",
   "metadata": {
    "scrolled": false
   },
   "outputs": [],
   "source": [
    "# img = cv2.imread('zeeshan_fareed.jpg')\n",
    "\n",
    "# print(img)  #RGB"
   ]
  },
  {
   "cell_type": "code",
   "execution_count": 26,
   "id": "4ab227a2",
   "metadata": {},
   "outputs": [],
   "source": [
    "img = cv2.imread('zeeshan_fareed.jpg')\n",
    "\n",
    "resiz_img = cv2.resize(img , (300 , 300))\n",
    "\n",
    "h = np.hstack((resiz_img , resiz_img , resiz_img))\n",
    "\n",
    "v = np.vstack((h , h))\n",
    "\n",
    "cv2.imshow(\"Zeeshan Fareed\" , v)\n",
    "\n",
    "cv2.waitKey(0)\n",
    "\n",
    "cv2.destroyAllWindows()"
   ]
  },
  {
   "cell_type": "markdown",
   "id": "995fbda1",
   "metadata": {},
   "source": [
    "## Slide"
   ]
  },
  {
   "cell_type": "code",
   "execution_count": 4,
   "id": "3e295bba",
   "metadata": {},
   "outputs": [],
   "source": [
    "import os"
   ]
  },
  {
   "cell_type": "code",
   "execution_count": 5,
   "id": "d9bd80e1",
   "metadata": {},
   "outputs": [
    {
     "data": {
      "text/plain": [
       "['banch.jpg',\n",
       " 'festival.jpg',\n",
       " 'rooshan.jpg',\n",
       " 'style.jpg',\n",
       " 'zeeshan_fareed.jpg',\n",
       " 'zeeshi.jpg']"
      ]
     },
     "execution_count": 5,
     "metadata": {},
     "output_type": "execute_result"
    }
   ],
   "source": [
    "list_name = os.listdir(r\"C:\\Users\\PMLS\\Pictures\\images\")\n",
    "\n",
    "list_name"
   ]
  },
  {
   "cell_type": "code",
   "execution_count": 9,
   "id": "336728c3",
   "metadata": {},
   "outputs": [],
   "source": [
    "list_name = os.listdir(r\"C:\\Users\\PMLS\\Pictures\\images\")\n",
    "\n",
    "for name in list_name:\n",
    "    path = \"C:\\\\Users\\\\PMLS\\\\Pictures\\\\images\"\n",
    "    img_name = path + \"\\\\\" + name\n",
    "    img_read = cv2.imread(img_name)\n",
    "    img = cv2.resize(img_read , (500,500))\n",
    "    cv2.imshow(\"Boy\" , img)\n",
    "    cv2.waitKey(0)\n",
    "cv2.destroyAllWindows()"
   ]
  },
  {
   "cell_type": "code",
   "execution_count": null,
   "id": "5593fc4a",
   "metadata": {},
   "outputs": [],
   "source": []
  },
  {
   "cell_type": "markdown",
   "id": "7fe196b1",
   "metadata": {},
   "source": [
    "## Image Read Function"
   ]
  },
  {
   "cell_type": "code",
   "execution_count": 10,
   "id": "688cbf1d",
   "metadata": {},
   "outputs": [
    {
     "name": "stdout",
     "output_type": "stream",
     "text": [
      "(960, 960, 3)\n"
     ]
    }
   ],
   "source": [
    "img = cv2.imread('zeeshan_fareed.jpg' , 1)     # bgr(0-255 , 0-255 , 0-255)\n",
    "\n",
    "#print(img)\n",
    "print(img.shape)\n",
    "\n",
    "img = cv2.resize(img , (500,500))\n",
    "cv2.imshow(\"Rooshan\" , img)\n",
    "cv2.waitKey(0)\n",
    "cv2.destroyAllWindows()"
   ]
  },
  {
   "cell_type": "code",
   "execution_count": 11,
   "id": "0f24d7ae",
   "metadata": {},
   "outputs": [
    {
     "name": "stdout",
     "output_type": "stream",
     "text": [
      "(960, 960, 3)\n"
     ]
    }
   ],
   "source": [
    "img = cv2.imread('zeeshan_fareed.jpg' , -1)     # bgr(0-255 , 0-255 , 0-255)\n",
    "\n",
    "#print(img)\n",
    "print(img.shape)\n",
    "\n",
    "img = cv2.resize(img , (500,500))\n",
    "cv2.imshow(\"Rooshan\" , img)\n",
    "cv2.waitKey(0)\n",
    "cv2.destroyAllWindows()"
   ]
  },
  {
   "cell_type": "code",
   "execution_count": 12,
   "id": "3b4f10f1",
   "metadata": {},
   "outputs": [
    {
     "name": "stdout",
     "output_type": "stream",
     "text": [
      "(960, 960)\n"
     ]
    }
   ],
   "source": [
    "img = cv2.imread('zeeshan_fareed.jpg' , 0)     # bgr(0-255 , 0-255 , 0-255)\n",
    "\n",
    "#print(img)\n",
    "print(img.shape)\n",
    "\n",
    "img = cv2.resize(img , (500,500))\n",
    "cv2.imshow(\"Rooshan\" , img)\n",
    "cv2.waitKey(0)\n",
    "cv2.destroyAllWindows()"
   ]
  },
  {
   "cell_type": "code",
   "execution_count": null,
   "id": "9c55d88b",
   "metadata": {},
   "outputs": [],
   "source": []
  },
  {
   "cell_type": "markdown",
   "id": "56d93c68",
   "metadata": {},
   "source": [
    "## Text Over a Image"
   ]
  },
  {
   "cell_type": "code",
   "execution_count": 2,
   "id": "e48adb56",
   "metadata": {},
   "outputs": [],
   "source": [
    "import cv2"
   ]
  },
  {
   "cell_type": "code",
   "execution_count": 12,
   "id": "8739c299",
   "metadata": {},
   "outputs": [],
   "source": [
    "img_get = cv2.imread('zeeshan_fareed.jpg')\n",
    "img = cv2.resize(img_get , (500,500))\n",
    "\n",
    "txt = cv2.putText(img = img,\n",
    "text = \"Rooshan\",\n",
    "org = (50 , 80),\n",
    "fontFace = cv2.FONT_HERSHEY_DUPLEX,\n",
    "fontScale = 3,\n",
    "color = (255 , 0 , 0),\n",
    "thickness = 3,\n",
    "lineType = cv2.LINE_8,\n",
    "bottomLeftOrigin = False\n",
    "                 )\n",
    "\n",
    "cv2.imshow(\"Rooshan\" , txt)\n",
    "cv2.waitKey(0)\n",
    "cv2.destroyAllWindows()"
   ]
  },
  {
   "cell_type": "markdown",
   "id": "3e959787",
   "metadata": {},
   "source": [
    "## bottomLeftOrigin is True"
   ]
  },
  {
   "cell_type": "code",
   "execution_count": 16,
   "id": "ec9a50f8",
   "metadata": {},
   "outputs": [],
   "source": [
    "img_get = cv2.imread('zeeshan_fareed.jpg')\n",
    "img = cv2.resize(img_get , (500,500))\n",
    "\n",
    "txt = cv2.putText(img = img,\n",
    "text = \"Rooshan\",\n",
    "org = (50 , 80),\n",
    "fontFace = cv2.FONT_HERSHEY_DUPLEX,\n",
    "fontScale = 3,\n",
    "color = (255 , 0 , 0),\n",
    "thickness = 3,\n",
    "lineType = cv2.LINE_8,\n",
    "bottomLeftOrigin = False\n",
    "                 )\n",
    "\n",
    "txt = cv2.putText(img = img,\n",
    "text = \"Rooshan\",\n",
    "org = (50 , 90),\n",
    "fontFace = cv2.FONT_HERSHEY_DUPLEX,\n",
    "fontScale = 3,\n",
    "color = (0 , 0 , 255),\n",
    "thickness = 3,\n",
    "lineType = cv2.LINE_8,\n",
    "bottomLeftOrigin = True\n",
    "                 )\n",
    "\n",
    "cv2.imshow(\"Rooshan\" , txt)\n",
    "cv2.waitKey(0)\n",
    "cv2.destroyAllWindows()"
   ]
  },
  {
   "cell_type": "code",
   "execution_count": null,
   "id": "77e31032",
   "metadata": {},
   "outputs": [],
   "source": []
  },
  {
   "cell_type": "markdown",
   "id": "8ef31aee",
   "metadata": {},
   "source": [
    "## Draw Line on Image"
   ]
  },
  {
   "cell_type": "code",
   "execution_count": 1,
   "id": "1fbc2259",
   "metadata": {},
   "outputs": [],
   "source": [
    "import cv2"
   ]
  },
  {
   "cell_type": "code",
   "execution_count": 45,
   "id": "11875c8d",
   "metadata": {},
   "outputs": [],
   "source": [
    "old_img = cv2.imread('zeeshan_fareed.jpg')\n",
    "old_img = cv2.resize(old_img , (400,400))\n",
    "\n",
    "new_img = cv2.line(\n",
    "img = old_img,\n",
    "pt1 = (90,50),\n",
    "pt2 = (280,50),\n",
    "color = (0,255,0),\n",
    "thickness = 4,\n",
    "lineType = 4)\n",
    "\n",
    "cv2.imshow(\"Rooshan\" , new_img)\n",
    "cv2.waitKey(0)\n",
    "cv2.destroyAllWindows()"
   ]
  },
  {
   "cell_type": "markdown",
   "id": "7a5366cc",
   "metadata": {},
   "source": [
    "## Rectangle on Image"
   ]
  },
  {
   "cell_type": "code",
   "execution_count": 109,
   "id": "2e3c1389",
   "metadata": {},
   "outputs": [],
   "source": [
    "old_img = cv2.imread('zeeshan_fareed.jpg')\n",
    "old_img = cv2.resize(old_img , (500,500))\n",
    "\n",
    "txt_img = cv2.putText(img = old_img,\n",
    "                 text = \"Rooshan\",\n",
    "                 org = (80,50),\n",
    "                 fontFace = 4,\n",
    "                 fontScale = 2,\n",
    "                 color = (0,0,255),\n",
    "                 thickness = 2,\n",
    "                 lineType = 16,\n",
    "                 bottomLeftOrigin = False)\n",
    "\n",
    "new_img = cv2.rectangle(\n",
    "img = txt_img,\n",
    "pt1 = (110,55),\n",
    "pt2 = (355,360),\n",
    "color = (0,255,0),\n",
    "thickness = 3,\n",
    "lineType = 3)\n",
    "\n",
    "cv2.imshow(\"Rooshan\" , new_img)\n",
    "cv2.waitKey(0)\n",
    "cv2.destroyAllWindows()"
   ]
  },
  {
   "cell_type": "markdown",
   "id": "5ad7e5d7",
   "metadata": {},
   "source": [
    "## Draw Circle on image"
   ]
  },
  {
   "cell_type": "code",
   "execution_count": 110,
   "id": "13970124",
   "metadata": {},
   "outputs": [],
   "source": [
    "import cv2"
   ]
  },
  {
   "cell_type": "code",
   "execution_count": 132,
   "id": "9634a6ee",
   "metadata": {},
   "outputs": [],
   "source": [
    "old_img = cv2.imread('zeeshan_fareed.jpg')\n",
    "old_img = cv2.resize(old_img , (500,500))\n",
    "\n",
    "new_img = cv2.circle(img = old_img,\n",
    "                    center = (223 ,230),\n",
    "                    radius = 118,\n",
    "                    color = (0,255,0),\n",
    "                    thickness = 3,\n",
    "                    lineType = 16) \n",
    "\n",
    "cv2.imshow(\"Rooshan\" , new_img)\n",
    "cv2.waitKey(0)\n",
    "cv2.destroyAllWindows()"
   ]
  },
  {
   "cell_type": "markdown",
   "id": "51210345",
   "metadata": {},
   "source": [
    "## Ellipse on image"
   ]
  },
  {
   "cell_type": "code",
   "execution_count": 207,
   "id": "8927fd1b",
   "metadata": {},
   "outputs": [],
   "source": [
    "old_img = cv2.imread('zeeshan_fareed.jpg')\n",
    "old_img = cv2.resize(old_img , (500,500))\n",
    "\n",
    "txt_img = cv2.putText(img = old_img,\n",
    "                 text = \"Rooshi\",\n",
    "                 org = (250,300),\n",
    "                 fontFace = 4,\n",
    "                 fontScale = 2,\n",
    "                 color = (0,255,0),\n",
    "                 thickness = 2,\n",
    "                 lineType = 16,\n",
    "                 bottomLeftOrigin = False)\n",
    "\n",
    "new_img = cv2.ellipse(img = txt_img,\n",
    "                     center = (200 ,245),\n",
    "                     axes = (85,115),\n",
    "                     angle = 360,\n",
    "                     startAngle = 35,\n",
    "                     endAngle = 360,\n",
    "                     color = (0,255,0),\n",
    "                     thickness = 3,\n",
    "                     lineType = 16) \n",
    "\n",
    "cv2.imshow(\"Rooshan\" , new_img)\n",
    "cv2.waitKey(0)\n",
    "cv2.destroyAllWindows()"
   ]
  },
  {
   "cell_type": "markdown",
   "id": "45258cce",
   "metadata": {},
   "source": [
    "## Draw ploygon On Image"
   ]
  },
  {
   "cell_type": "code",
   "execution_count": 209,
   "id": "73ec2577",
   "metadata": {},
   "outputs": [],
   "source": [
    "import cv2\n",
    "import numpy as np"
   ]
  },
  {
   "cell_type": "code",
   "execution_count": 299,
   "id": "43fb2ac3",
   "metadata": {},
   "outputs": [],
   "source": [
    "old_img = cv2.imread('festival.jpg')\n",
    "old_img = cv2.resize(old_img , (400, 400))\n",
    "\n",
    "new_img = cv2.polylines(img = old_img,\n",
    "                        pts = [np.array([[130,80] , [195,50] , [250,80] , [250,170],[130,170]])],\n",
    "                        isClosed = True,\n",
    "                        color = (0, 255 ,0),\n",
    "                        thickness = 4,\n",
    "                        lineType = 16)\n",
    "\n",
    "cv2.imshow(\"Rooshan\" , old_img)\n",
    "cv2.waitKey(0)\n",
    "cv2.destroyAllWindows()"
   ]
  },
  {
   "cell_type": "markdown",
   "id": "5245cd33",
   "metadata": {},
   "source": [
    "## Arithmetic Operations on Images"
   ]
  },
  {
   "cell_type": "code",
   "execution_count": 300,
   "id": "e0cf1936",
   "metadata": {},
   "outputs": [],
   "source": [
    "import cv2"
   ]
  },
  {
   "cell_type": "code",
   "execution_count": 315,
   "id": "42a7c1c9",
   "metadata": {},
   "outputs": [],
   "source": [
    "img1 = cv2.imread(\"zeeshan_fareed.jpg\")\n",
    "img2 = cv2.imread(\"festival.jpg\")\n",
    "\n",
    "img1 = cv2.resize(img1 , (400,400))\n",
    "img2 = cv2.resize(img2 , (400,400))\n",
    "\n",
    "new_img = cv2.addWeighted(img1, 0.4, img2, 0.5, 1)\n",
    "# new_img = cv2.subtract(img2,img1)\n",
    "\n",
    "cv2.imshow(\"Rooshan\" , new_img)\n",
    "cv2.waitKey(0)\n",
    "cv2.destroyAllWindows()"
   ]
  },
  {
   "cell_type": "markdown",
   "id": "beafc3a6",
   "metadata": {},
   "source": [
    "## Bitwise Operation on Image"
   ]
  },
  {
   "cell_type": "code",
   "execution_count": 317,
   "id": "1a08458a",
   "metadata": {},
   "outputs": [],
   "source": [
    "import cv2\n",
    "import numpy as np"
   ]
  },
  {
   "cell_type": "code",
   "execution_count": 348,
   "id": "83b07822",
   "metadata": {},
   "outputs": [],
   "source": [
    "img1 = cv2.imread(\"white.png\")\n",
    "img2 = cv2.imread(\"black.png\")\n",
    "\n",
    "img1 = cv2.resize(img1 , (400,400))\n",
    "\n",
    "img2 = cv2.resize(img2 , (400,400))\n",
    "\n",
    "new_img = cv2.bitwise_and(img1, img2)\n",
    "# new_img = cv2.bitwise_or(img1, img2)\n",
    "# new_img = cv2.bitwise_xor(img1, img2)\n",
    "\n",
    "h = np.hstack((img1, img2, new_img))\n",
    "\n",
    "cv2.imshow(\"Rooshan\", h)\n",
    "cv2.waitKey(0)\n",
    "cv2.destroyAllWindows()"
   ]
  },
  {
   "cell_type": "code",
   "execution_count": 343,
   "id": "78e1f621",
   "metadata": {},
   "outputs": [],
   "source": [
    "img1 = cv2.imread(\"white.png\")\n",
    "img2 = cv2.imread(\"black.png\")\n",
    "\n",
    "img1 = cv2.resize(img1 , (250,250))\n",
    "img2 = cv2.resize(img2 , (250,250))\n",
    "\n",
    "new = cv2.bitwise_not((img1))\n",
    "new_img = cv2.bitwise_not((img2))\n",
    "\n",
    "h = np.hstack((img1, new))\n",
    "h1 = np.hstack((img2, new_img))\n",
    "\n",
    "v = np.vstack((h , h1))\n",
    "\n",
    "cv2.imshow(\"Rooshan\", v)\n",
    "cv2.waitKey(0)\n",
    "cv2.destroyAllWindows()"
   ]
  },
  {
   "cell_type": "markdown",
   "id": "d5df8d10",
   "metadata": {},
   "source": [
    "## Edge Detection"
   ]
  },
  {
   "cell_type": "code",
   "execution_count": 349,
   "id": "e1a65916",
   "metadata": {},
   "outputs": [],
   "source": [
    "import cv2"
   ]
  },
  {
   "cell_type": "code",
   "execution_count": 363,
   "id": "36513699",
   "metadata": {},
   "outputs": [
    {
     "name": "stdout",
     "output_type": "stream",
     "text": [
      "(400, 400, 3)\n",
      "(400, 400)\n"
     ]
    }
   ],
   "source": [
    "img = cv2.imread(\"zeeshan_fareed.jpg\")\n",
    "img = cv2.resize(img , (400,400))\n",
    "\n",
    "print(img.shape)\n",
    "\n",
    "new_img = cv2.Canny(img, 200, 200, apertureSize=5, L2gradient=False)\n",
    "print(new_img.shape)\n",
    "\n",
    "cv2.imshow(\"Rooshan\" , new_img)\n",
    "cv2.imshow(\"Rooshan2\" , img)\n",
    "cv2.waitKey(0)\n",
    "cv2.destroyAllWindows()"
   ]
  },
  {
   "cell_type": "markdown",
   "id": "f5a132cf",
   "metadata": {},
   "source": [
    "## Image Scaling & Rotating"
   ]
  },
  {
   "cell_type": "code",
   "execution_count": 369,
   "id": "1005e5ad",
   "metadata": {},
   "outputs": [],
   "source": [
    "org_img = cv2.imread(\"zeeshan_fareed.jpg\")\n",
    "res_img = cv2.resize(org_img, (450,500))\n",
    "\n",
    "cv2.imshow(\"Rooshan2\" , res_img)\n",
    "cv2.waitKey(0)\n",
    "cv2.destroyAllWindows()"
   ]
  },
  {
   "cell_type": "code",
   "execution_count": 385,
   "id": "5548a969",
   "metadata": {},
   "outputs": [],
   "source": [
    "org_img = cv2.imread(\"zeeshan_fareed.jpg\")\n",
    "res_img = cv2.resize(org_img, (450,500))\n",
    "\n",
    "w,h = res_img.shape[0],res_img.shape[1]\n",
    "\n",
    "m = cv2.getRotationMatrix2D((w/2,h/2), 180,1)\n",
    "new_img = cv2.warpAffine(res_img, m, (h,w))\n",
    "\n",
    "h = np.hstack((res_img , new_img))\n",
    "\n",
    "cv2.imshow(\"Rooshan\" , h)\n",
    "cv2.waitKey(0)\n",
    "cv2.destroyAllWindows()"
   ]
  },
  {
   "cell_type": "markdown",
   "id": "d774b0e4",
   "metadata": {},
   "source": [
    "## Image Blur"
   ]
  },
  {
   "cell_type": "code",
   "execution_count": 6,
   "id": "9d46b09b",
   "metadata": {},
   "outputs": [],
   "source": [
    "import cv2\n",
    "import numpy as np"
   ]
  },
  {
   "cell_type": "code",
   "execution_count": 17,
   "id": "9bfd2bb2",
   "metadata": {},
   "outputs": [],
   "source": [
    "org_img = cv2.imread(\"festival.jpg\")\n",
    "res_img = cv2.resize(org_img, (300,300))\n",
    "\n",
    "g = cv2.GaussianBlur(res_img, (5,5), 0)\n",
    "m = cv2.medianBlur(res_img, 5)\n",
    "b = cv2.bilateralFilter(res_img, 9, 75, 75)\n",
    "\n",
    "h = np.hstack((res_img, g, m, b))\n",
    "\n",
    "cv2.imshow(\"Rooshan\" , h)\n",
    "cv2.waitKey(0)\n",
    "cv2.destroyAllWindows()"
   ]
  },
  {
   "cell_type": "markdown",
   "id": "70a24590",
   "metadata": {},
   "source": [
    "## Image Save in folder"
   ]
  },
  {
   "cell_type": "code",
   "execution_count": 18,
   "id": "b3c36f12",
   "metadata": {},
   "outputs": [],
   "source": [
    "import cv2\n",
    "import numpy as np"
   ]
  },
  {
   "cell_type": "code",
   "execution_count": 20,
   "id": "383659de",
   "metadata": {},
   "outputs": [],
   "source": [
    "org_img = cv2.imread(\"festival.jpg\")\n",
    "res_img = cv2.resize(org_img, (300,300))\n",
    "\n",
    "h = np.hstack((res_img, res_img))\n",
    "v = np.vstack((h, h))\n",
    "\n",
    "cv2.imwrite(\"new_image.jpg\", v)\n",
    "\n",
    "cv2.imshow(\"Rooshan\" , v)\n",
    "cv2.waitKey(0)\n",
    "cv2.destroyAllWindows()"
   ]
  },
  {
   "cell_type": "markdown",
   "id": "0cc64d85",
   "metadata": {},
   "source": [
    "## Make Border"
   ]
  },
  {
   "cell_type": "code",
   "execution_count": 21,
   "id": "f31f07ae",
   "metadata": {},
   "outputs": [],
   "source": [
    "import cv2\n",
    "import numpy as np"
   ]
  },
  {
   "cell_type": "code",
   "execution_count": 37,
   "id": "4ea50204",
   "metadata": {},
   "outputs": [],
   "source": [
    "org_img = cv2.imread(\"rooshan.jpg\")\n",
    "org_img = cv2.resize(org_img, (300,300))\n",
    "\n",
    "# img1 = cv2.copyMakeBorder(org_img, 20,20,20,20, cv2.BORDER_CONSTANT, None, value=2)\n",
    "# res_img = cv2.resize(img1, (300,300))\n",
    "\n",
    "img2 = cv2.copyMakeBorder(org_img, 20,20,20,20, cv2.BORDER_REPLICATE)\n",
    "\n",
    "# h = np.hstack((org_img, res_img, img2))\n",
    "\n",
    "cv2.imshow(\"Rooshan\" , img2)\n",
    "cv2.waitKey(0)\n",
    "cv2.destroyAllWindows()"
   ]
  },
  {
   "cell_type": "markdown",
   "id": "25e39057",
   "metadata": {},
   "source": [
    "## Play Video"
   ]
  },
  {
   "cell_type": "code",
   "execution_count": 38,
   "id": "fd56f42e",
   "metadata": {},
   "outputs": [],
   "source": [
    "import cv2"
   ]
  },
  {
   "cell_type": "code",
   "execution_count": 48,
   "id": "2e1508ee",
   "metadata": {},
   "outputs": [],
   "source": [
    "cap = cv2.VideoCapture(\"cricket.mp4\")\n",
    "\n",
    "while cap.isOpened():\n",
    "    r,frame = cap.read()\n",
    "    if r == True:\n",
    "        frame = cv2.resize(frame, (500,400))\n",
    "        cv2.imshow(\"Babar Azam\" , frame)\n",
    "        if cv2.waitKey(25) & 0xff == ord(\"p\"):\n",
    "            break\n",
    "    else:\n",
    "        break\n",
    "\n",
    "cap.release()\n",
    "cv2.destroyAllWindows()"
   ]
  },
  {
   "cell_type": "markdown",
   "id": "38bf4db0",
   "metadata": {},
   "source": [
    "## Capture Video From Camera"
   ]
  },
  {
   "cell_type": "code",
   "execution_count": 43,
   "id": "90810a93",
   "metadata": {},
   "outputs": [],
   "source": [
    "import cv2"
   ]
  },
  {
   "cell_type": "code",
   "execution_count": 47,
   "id": "a9c8fada",
   "metadata": {},
   "outputs": [],
   "source": [
    "cap = cv2.VideoCapture(0)\n",
    "while True:\n",
    "    r,frame = cap.read()\n",
    "    if r == True:\n",
    "        frame = cv2.resize(frame, (500,400))\n",
    "        cv2.imshow(\"Babar Azam\" , frame)\n",
    "        if cv2.waitKey(25) & 0xff == ord(\"p\"):\n",
    "            break\n",
    "    else:\n",
    "        break\n",
    "\n",
    "cap.release()\n",
    "cv2.destroyAllWindows()"
   ]
  },
  {
   "cell_type": "markdown",
   "id": "862511ff",
   "metadata": {},
   "source": [
    "## Slow & Fast Video"
   ]
  },
  {
   "cell_type": "code",
   "execution_count": 2,
   "id": "21b869f1",
   "metadata": {},
   "outputs": [],
   "source": [
    "import cv2"
   ]
  },
  {
   "cell_type": "code",
   "execution_count": 8,
   "id": "6b9db2d5",
   "metadata": {},
   "outputs": [],
   "source": [
    "cap = cv2.VideoCapture(\"cricket.mp4\")\n",
    "\n",
    "while cap.isOpened():\n",
    "    r,frame = cap.read()\n",
    "    if r == True:\n",
    "        frame = cv2.resize(frame, (500,400))\n",
    "        cv2.imshow(\"Babar Azam\" , frame)\n",
    "        if cv2.waitKey(5) & 0xff == ord(\"p\"):   # waitKey decrease for fast video also vice versa and 0 is static\n",
    "            break\n",
    "    else:\n",
    "        break\n",
    "\n",
    "cap.release()\n",
    "cv2.destroyAllWindows()"
   ]
  },
  {
   "cell_type": "code",
   "execution_count": null,
   "id": "f4318bd3",
   "metadata": {},
   "outputs": [],
   "source": []
  }
 ],
 "metadata": {
  "kernelspec": {
   "display_name": "Python 3 (ipykernel)",
   "language": "python",
   "name": "python3"
  },
  "language_info": {
   "codemirror_mode": {
    "name": "ipython",
    "version": 3
   },
   "file_extension": ".py",
   "mimetype": "text/x-python",
   "name": "python",
   "nbconvert_exporter": "python",
   "pygments_lexer": "ipython3",
   "version": "3.11.5"
  }
 },
 "nbformat": 4,
 "nbformat_minor": 5
}
