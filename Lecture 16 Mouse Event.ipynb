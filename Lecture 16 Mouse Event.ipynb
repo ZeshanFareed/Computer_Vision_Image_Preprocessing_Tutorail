{
 "cells": [
  {
   "cell_type": "code",
   "execution_count": 8,
   "id": "26a46878",
   "metadata": {},
   "outputs": [],
   "source": [
    "import cv2\n",
    "import numpy as np"
   ]
  },
  {
   "cell_type": "code",
   "execution_count": 13,
   "id": "e73e6a3d",
   "metadata": {},
   "outputs": [],
   "source": [
    "def python(event, x, y, f, p):\n",
    "    if event == cv2.EVENT_LBUTTONDOWN:\n",
    "        cv2.circle(img, (x,y), 5, (0,0,255), 4)\n",
    "    elif event == cv2.EVENT_RBUTTONDOWN:\n",
    "        cv2.rectangle(img, (x,y), (x+20, y+20), (255,0,0), 4)"
   ]
  },
  {
   "cell_type": "code",
   "execution_count": 14,
   "id": "c079debf",
   "metadata": {},
   "outputs": [],
   "source": [
    "cv2.namedWindow(\"window\")\n",
    "img = np.ones((500,500,3),np.uint8) * 255\n",
    "cv2.setMouseCallback(\"window\", python)\n",
    "\n",
    "while True:\n",
    "    cv2.imshow(\"window\", img)\n",
    "    if cv2.waitKey(25) & 0xff == ord(\"p\"):\n",
    "        break\n",
    "        \n",
    "cv2.destroyAllWindows()"
   ]
  },
  {
   "cell_type": "code",
   "execution_count": null,
   "id": "d9276804",
   "metadata": {},
   "outputs": [],
   "source": [
    "cv2.imshow(\"Image\", img)\n",
    "cv2.waitKey(0)\n",
    "cv2.destroyAllWindows()"
   ]
  }
 ],
 "metadata": {
  "kernelspec": {
   "display_name": "Python 3 (ipykernel)",
   "language": "python",
   "name": "python3"
  },
  "language_info": {
   "codemirror_mode": {
    "name": "ipython",
    "version": 3
   },
   "file_extension": ".py",
   "mimetype": "text/x-python",
   "name": "python",
   "nbconvert_exporter": "python",
   "pygments_lexer": "ipython3",
   "version": "3.11.5"
  }
 },
 "nbformat": 4,
 "nbformat_minor": 5
}
