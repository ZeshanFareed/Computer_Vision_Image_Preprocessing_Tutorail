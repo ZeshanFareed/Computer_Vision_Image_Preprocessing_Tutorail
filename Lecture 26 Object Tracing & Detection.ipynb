{
 "cells": [
  {
   "cell_type": "code",
   "execution_count": 44,
   "id": "a105b5ef",
   "metadata": {},
   "outputs": [],
   "source": [
    "import cv2\n",
    "import numpy as np\n"
   ]
  },
  {
   "cell_type": "code",
   "execution_count": 103,
   "id": "bd99f3f6",
   "metadata": {},
   "outputs": [],
   "source": [
    "import cv2\n",
    "import numpy as np\n",
    "\n",
    "cap = cv2.VideoCapture(\"jogging.mp4\")\n",
    "r, frame = cap.read()\n",
    "\n",
    "# Define initial location of the tracking window (x, y, width, height)\n",
    "x, y, w, h = 185, 79, 120, 250\n",
    "t = (x, y, w, h)  # Tracking window should be a tuple, not a set\n",
    "\n",
    "# Set up the ROI for tracking\n",
    "roi = frame[y:y+h, x:x+w]\n",
    "hsv_roi = cv2.cvtColor(roi, cv2.COLOR_BGR2HSV)\n",
    "mask = cv2.inRange(hsv_roi, np.array([0., 60., 32.]), np.array([180., 255., 255.]))\n",
    "roi_hist = cv2.calcHist([hsv_roi], [0], mask, [180], [0, 180])\n",
    "cv2.normalize(roi_hist, roi_hist, 0, 255, cv2.NORM_MINMAX)\n",
    "# cv2.imshow(\"test\", roi)\n",
    "\n",
    "# Define termination criteria (epsilon and max iterations)\n",
    "tr = (cv2.TERM_CRITERIA_EPS | cv2.TERM_CRITERIA_COUNT, 10, 1)  # Should also be a tuple\n",
    "\n",
    "while cap.isOpened():\n",
    "    r, frame = cap.read()\n",
    "    if r:\n",
    "        hsv_frame = cv2.cvtColor(frame, cv2.COLOR_BGR2HSV)\n",
    "        d = cv2.calcBackProject([hsv_frame], [0], roi_hist, [0, 180], 1)\n",
    "\n",
    "        # Apply meanShift to get the new location\n",
    "        r, tp = cv2.meanShift(d, t, tr)\n",
    "\n",
    "        # Update the tracking window\n",
    "        x, y, w, h = tp\n",
    "        final = cv2.rectangle(frame, (x, y), (x+w, y+h), (0,255,0), 4)\n",
    "        final = cv2.resize(final, (600,550))\n",
    "        cv2.imshow(\"Result\", final)\n",
    "        if cv2.waitKey(25) & 0xFF == ord(\"p\"):\n",
    "            break\n",
    "    else:\n",
    "        break\n",
    "\n",
    "cap.release()\n",
    "cv2.destroyAllWindows()\n"
   ]
  },
  {
   "cell_type": "code",
   "execution_count": 80,
   "id": "382bc4b7",
   "metadata": {},
   "outputs": [],
   "source": [
    "# x,y = 765,123\n",
    "# w = 1221-765\n",
    "# h = 765-123\n",
    "\n",
    "x, y = 446,149\n",
    "w = 706-446\n",
    "z = 446-149\n"
   ]
  },
  {
   "cell_type": "code",
   "execution_count": 59,
   "id": "e764bd0c",
   "metadata": {},
   "outputs": [
    {
     "data": {
      "text/plain": [
       "(446, 149, 260, 716)"
      ]
     },
     "execution_count": 59,
     "metadata": {},
     "output_type": "execute_result"
    }
   ],
   "source": [
    "x,y,w,h"
   ]
  },
  {
   "cell_type": "code",
   "execution_count": 26,
   "id": "91340ded",
   "metadata": {},
   "outputs": [],
   "source": []
  },
  {
   "cell_type": "code",
   "execution_count": null,
   "id": "5afbd8ba",
   "metadata": {},
   "outputs": [],
   "source": []
  }
 ],
 "metadata": {
  "kernelspec": {
   "display_name": "Python 3 (ipykernel)",
   "language": "python",
   "name": "python3"
  },
  "language_info": {
   "codemirror_mode": {
    "name": "ipython",
    "version": 3
   },
   "file_extension": ".py",
   "mimetype": "text/x-python",
   "name": "python",
   "nbconvert_exporter": "python",
   "pygments_lexer": "ipython3",
   "version": "3.11.5"
  },
  "varInspector": {
   "cols": {
    "lenName": 16,
    "lenType": 16,
    "lenVar": 40
   },
   "kernels_config": {
    "python": {
     "delete_cmd_postfix": "",
     "delete_cmd_prefix": "del ",
     "library": "var_list.py",
     "varRefreshCmd": "print(var_dic_list())"
    },
    "r": {
     "delete_cmd_postfix": ") ",
     "delete_cmd_prefix": "rm(",
     "library": "var_list.r",
     "varRefreshCmd": "cat(var_dic_list()) "
    }
   },
   "types_to_exclude": [
    "module",
    "function",
    "builtin_function_or_method",
    "instance",
    "_Feature"
   ],
   "window_display": false
  }
 },
 "nbformat": 4,
 "nbformat_minor": 5
}
