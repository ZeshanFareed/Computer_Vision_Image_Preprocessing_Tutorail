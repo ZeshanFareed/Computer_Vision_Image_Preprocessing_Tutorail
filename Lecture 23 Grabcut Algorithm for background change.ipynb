{
 "cells": [
  {
   "cell_type": "code",
   "execution_count": 1,
   "id": "59d04bf9",
   "metadata": {},
   "outputs": [],
   "source": [
    "import cv2\n",
    "import numpy as np"
   ]
  },
  {
   "cell_type": "code",
   "execution_count": 17,
   "id": "9d552a2b",
   "metadata": {},
   "outputs": [],
   "source": [
    "img = cv2.imread(\"cars.jpeg\")\n",
    "\n",
    "mask1 = np.zeros(img.shape[:2],np.uint8)\n",
    "\n",
    "bgmask = np.zeros((1,65), np.float64) * 255\n",
    "fgmask = np.zeros((1,65), np.float64) * 255\n",
    "\n",
    "\n",
    "# x1,y1,x2,y2\n",
    "r = [60,81,540,372]\n",
    "cv2.grabCut(img, mask1, r, bgmask, fgmask, 10, cv2.GC_INIT_WITH_RECT)\n",
    "mask2 = np.where((mask1 == 2) | (mask1 == 0), 0,1).astype(\"uint8\")\n",
    "\n",
    "img = img * mask2[:,:,np.newaxis]\n",
    "\n",
    "\n",
    "cv2.imshow(\"rooshan\", img)\n",
    "cv2.waitKey(0)\n",
    "cv2.destroyAllWindows()"
   ]
  },
  {
   "cell_type": "code",
   "execution_count": null,
   "id": "e0612d5e",
   "metadata": {},
   "outputs": [],
   "source": []
  }
 ],
 "metadata": {
  "kernelspec": {
   "display_name": "Python 3 (ipykernel)",
   "language": "python",
   "name": "python3"
  },
  "language_info": {
   "codemirror_mode": {
    "name": "ipython",
    "version": 3
   },
   "file_extension": ".py",
   "mimetype": "text/x-python",
   "name": "python",
   "nbconvert_exporter": "python",
   "pygments_lexer": "ipython3",
   "version": "3.11.5"
  },
  "varInspector": {
   "cols": {
    "lenName": 16,
    "lenType": 16,
    "lenVar": 40
   },
   "kernels_config": {
    "python": {
     "delete_cmd_postfix": "",
     "delete_cmd_prefix": "del ",
     "library": "var_list.py",
     "varRefreshCmd": "print(var_dic_list())"
    },
    "r": {
     "delete_cmd_postfix": ") ",
     "delete_cmd_prefix": "rm(",
     "library": "var_list.r",
     "varRefreshCmd": "cat(var_dic_list()) "
    }
   },
   "types_to_exclude": [
    "module",
    "function",
    "builtin_function_or_method",
    "instance",
    "_Feature"
   ],
   "window_display": false
  }
 },
 "nbformat": 4,
 "nbformat_minor": 5
}
